{
 "cells": [
  {
   "cell_type": "markdown",
   "id": "86a011c5-c5a0-4b50-8e47-c898e0bc60df",
   "metadata": {},
   "source": [
    "# Calculating Process Capability\n",
    "\n",
    "## What is Process Capability?\n",
    "- Measure of the variability of a process\n",
    "- If a process is capable, it is stable and doing what it should\n",
    "- Mainly used in manufacturing"
   ]
  },
  {
   "cell_type": "code",
   "execution_count": 1,
   "id": "d37dd268-3993-4c4a-9b0e-64f4a59ea38e",
   "metadata": {},
   "outputs": [
    {
     "data": {
      "text/html": [
       "\n",
       "        <iframe\n",
       "            width=\"720\"\n",
       "            height=\"480\"\n",
       "            src=\"https://player.vimeo.com/video/647020133\"\n",
       "            frameborder=\"0\"\n",
       "            allowfullscreen\n",
       "            \n",
       "        ></iframe>\n",
       "        "
      ],
      "text/plain": [
       "<IPython.lib.display.VimeoVideo at 0x179df3730>"
      ]
     },
     "execution_count": 1,
     "metadata": {},
     "output_type": "execute_result"
    }
   ],
   "source": [
    "from IPython.display import VimeoVideo\n",
    "# Tutorial Video Name: Calculating Process Capability\n",
    "VimeoVideo('647020133', width=720, height=480)"
   ]
  },
  {
   "cell_type": "markdown",
   "id": "4479c636-b3da-4636-ac38-55e69afbece0",
   "metadata": {},
   "source": [
    "https://vimeo.com/647020133"
   ]
  },
  {
   "cell_type": "code",
   "execution_count": 2,
   "id": "8b1b128a-b794-4d60-b5b6-4842b8722577",
   "metadata": {},
   "outputs": [],
   "source": [
    "import pandas as pd"
   ]
  },
  {
   "cell_type": "code",
   "execution_count": 3,
   "id": "b4a12dda-42aa-4c48-8a2c-1def0e70443b",
   "metadata": {},
   "outputs": [],
   "source": [
    "PCC = pd.read_excel('Process-Capability-Calculations.xlsx', header=None)"
   ]
  },
  {
   "cell_type": "code",
   "execution_count": 4,
   "id": "ab5e4fce-fd49-4f34-903d-f4466a3000c9",
   "metadata": {},
   "outputs": [
    {
     "data": {
      "text/html": [
       "<div><div id=ba7f2e1a-40a7-4f11-8bc2-0980ca07426d style=\"display:none; background-color:#9D6CFF; color:white; width:200px; height:30px; padding-left:5px; border-radius:4px; flex-direction:row; justify-content:space-around; align-items:center;\" onmouseover=\"this.style.backgroundColor='#BA9BF8'\" onmouseout=\"this.style.backgroundColor='#9D6CFF'\" onclick=\"window.commands?.execute('create-mitosheet-from-dataframe-output');\">See Full Dataframe in Mito</div> <script> if (window.commands.hasCommand('create-mitosheet-from-dataframe-output')) document.getElementById('ba7f2e1a-40a7-4f11-8bc2-0980ca07426d').style.display = 'flex' </script> <table border=\"1\" class=\"dataframe\">\n",
       "  <thead>\n",
       "    <tr style=\"text-align: right;\">\n",
       "      <th></th>\n",
       "      <th>0</th>\n",
       "      <th>1</th>\n",
       "      <th>2</th>\n",
       "      <th>3</th>\n",
       "    </tr>\n",
       "  </thead>\n",
       "  <tbody>\n",
       "    <tr>\n",
       "      <th>0</th>\n",
       "      <td>75</td>\n",
       "      <td>NaN</td>\n",
       "      <td>NaN</td>\n",
       "      <td>NaN</td>\n",
       "    </tr>\n",
       "    <tr>\n",
       "      <th>1</th>\n",
       "      <td>48</td>\n",
       "      <td>NaN</td>\n",
       "      <td>Process Mean</td>\n",
       "      <td>39.966667</td>\n",
       "    </tr>\n",
       "    <tr>\n",
       "      <th>2</th>\n",
       "      <td>35</td>\n",
       "      <td>NaN</td>\n",
       "      <td>Process Standard Deviation</td>\n",
       "      <td>21.772307</td>\n",
       "    </tr>\n",
       "    <tr>\n",
       "      <th>3</th>\n",
       "      <td>69</td>\n",
       "      <td>NaN</td>\n",
       "      <td>Upper Control Limit</td>\n",
       "      <td>105.283586</td>\n",
       "    </tr>\n",
       "    <tr>\n",
       "      <th>4</th>\n",
       "      <td>22</td>\n",
       "      <td>NaN</td>\n",
       "      <td>Lower Control Limit</td>\n",
       "      <td>-25.350253</td>\n",
       "    </tr>\n",
       "    <tr>\n",
       "      <th>...</th>\n",
       "      <td>...</td>\n",
       "      <td>...</td>\n",
       "      <td>...</td>\n",
       "      <td>...</td>\n",
       "    </tr>\n",
       "    <tr>\n",
       "      <th>7</th>\n",
       "      <td>46</td>\n",
       "      <td>NaN</td>\n",
       "      <td>Lower Spec Limit</td>\n",
       "      <td>13.000000</td>\n",
       "    </tr>\n",
       "    <tr>\n",
       "      <th>8</th>\n",
       "      <td>13</td>\n",
       "      <td>NaN</td>\n",
       "      <td>Spec Width</td>\n",
       "      <td>1.000000</td>\n",
       "    </tr>\n",
       "    <tr>\n",
       "      <th>9</th>\n",
       "      <td>7</td>\n",
       "      <td>NaN</td>\n",
       "      <td>Cp</td>\n",
       "      <td>0.007655</td>\n",
       "    </tr>\n",
       "    <tr>\n",
       "      <th>10</th>\n",
       "      <td>50</td>\n",
       "      <td>NaN</td>\n",
       "      <td>Cpu</td>\n",
       "      <td>-1.397549</td>\n",
       "    </tr>\n",
       "    <tr>\n",
       "      <th>11</th>\n",
       "      <td>24</td>\n",
       "      <td>NaN</td>\n",
       "      <td>Cpl</td>\n",
       "      <td>0.587141</td>\n",
       "    </tr>\n",
       "  </tbody>\n",
       "</table></div>"
      ],
      "text/plain": [
       "     0   1                           2           3\n",
       "0   75 NaN                         NaN         NaN\n",
       "1   48 NaN                Process Mean   39.966667\n",
       "2   35 NaN  Process Standard Deviation   21.772307\n",
       "3   69 NaN         Upper Control Limit  105.283586\n",
       "4   22 NaN         Lower Control Limit  -25.350253\n",
       "5    5 NaN               Control Width  130.633839\n",
       "6   14 NaN            Upper Spec Limit   14.000000\n",
       "7   46 NaN            Lower Spec Limit   13.000000\n",
       "8   13 NaN                  Spec Width    1.000000\n",
       "9    7 NaN                          Cp    0.007655\n",
       "10  50 NaN                         Cpu   -1.397549\n",
       "11  24 NaN                         Cpl    0.587141"
      ]
     },
     "execution_count": 4,
     "metadata": {},
     "output_type": "execute_result"
    }
   ],
   "source": [
    "PCC.head(12)"
   ]
  },
  {
   "cell_type": "code",
   "execution_count": 5,
   "id": "f209df9a-cec7-4c86-97ce-def9880077b1",
   "metadata": {},
   "outputs": [],
   "source": [
    "PCC2 = PCC.drop([1], axis = 1)"
   ]
  },
  {
   "cell_type": "code",
   "execution_count": 6,
   "id": "69ff068a-aa2b-43b6-b900-db86eac90f88",
   "metadata": {},
   "outputs": [
    {
     "data": {
      "text/html": [
       "<div><div id=2648b662-588a-4eb4-8c9c-71c566ec67db style=\"display:none; background-color:#9D6CFF; color:white; width:200px; height:30px; padding-left:5px; border-radius:4px; flex-direction:row; justify-content:space-around; align-items:center;\" onmouseover=\"this.style.backgroundColor='#BA9BF8'\" onmouseout=\"this.style.backgroundColor='#9D6CFF'\" onclick=\"window.commands?.execute('create-mitosheet-from-dataframe-output');\">See Full Dataframe in Mito</div> <script> if (window.commands.hasCommand('create-mitosheet-from-dataframe-output')) document.getElementById('2648b662-588a-4eb4-8c9c-71c566ec67db').style.display = 'flex' </script> <table border=\"1\" class=\"dataframe\">\n",
       "  <thead>\n",
       "    <tr style=\"text-align: right;\">\n",
       "      <th></th>\n",
       "      <th>0</th>\n",
       "      <th>2</th>\n",
       "      <th>3</th>\n",
       "    </tr>\n",
       "  </thead>\n",
       "  <tbody>\n",
       "    <tr>\n",
       "      <th>0</th>\n",
       "      <td>75</td>\n",
       "      <td>NaN</td>\n",
       "      <td>NaN</td>\n",
       "    </tr>\n",
       "    <tr>\n",
       "      <th>1</th>\n",
       "      <td>48</td>\n",
       "      <td>Process Mean</td>\n",
       "      <td>39.966667</td>\n",
       "    </tr>\n",
       "    <tr>\n",
       "      <th>2</th>\n",
       "      <td>35</td>\n",
       "      <td>Process Standard Deviation</td>\n",
       "      <td>21.772307</td>\n",
       "    </tr>\n",
       "    <tr>\n",
       "      <th>3</th>\n",
       "      <td>69</td>\n",
       "      <td>Upper Control Limit</td>\n",
       "      <td>105.283586</td>\n",
       "    </tr>\n",
       "    <tr>\n",
       "      <th>4</th>\n",
       "      <td>22</td>\n",
       "      <td>Lower Control Limit</td>\n",
       "      <td>-25.350253</td>\n",
       "    </tr>\n",
       "    <tr>\n",
       "      <th>...</th>\n",
       "      <td>...</td>\n",
       "      <td>...</td>\n",
       "      <td>...</td>\n",
       "    </tr>\n",
       "    <tr>\n",
       "      <th>7</th>\n",
       "      <td>46</td>\n",
       "      <td>Lower Spec Limit</td>\n",
       "      <td>13.000000</td>\n",
       "    </tr>\n",
       "    <tr>\n",
       "      <th>8</th>\n",
       "      <td>13</td>\n",
       "      <td>Spec Width</td>\n",
       "      <td>1.000000</td>\n",
       "    </tr>\n",
       "    <tr>\n",
       "      <th>9</th>\n",
       "      <td>7</td>\n",
       "      <td>Cp</td>\n",
       "      <td>0.007655</td>\n",
       "    </tr>\n",
       "    <tr>\n",
       "      <th>10</th>\n",
       "      <td>50</td>\n",
       "      <td>Cpu</td>\n",
       "      <td>-1.397549</td>\n",
       "    </tr>\n",
       "    <tr>\n",
       "      <th>11</th>\n",
       "      <td>24</td>\n",
       "      <td>Cpl</td>\n",
       "      <td>0.587141</td>\n",
       "    </tr>\n",
       "  </tbody>\n",
       "</table></div>"
      ],
      "text/plain": [
       "     0                           2           3\n",
       "0   75                         NaN         NaN\n",
       "1   48                Process Mean   39.966667\n",
       "2   35  Process Standard Deviation   21.772307\n",
       "3   69         Upper Control Limit  105.283586\n",
       "4   22         Lower Control Limit  -25.350253\n",
       "5    5               Control Width  130.633839\n",
       "6   14            Upper Spec Limit   14.000000\n",
       "7   46            Lower Spec Limit   13.000000\n",
       "8   13                  Spec Width    1.000000\n",
       "9    7                          Cp    0.007655\n",
       "10  50                         Cpu   -1.397549\n",
       "11  24                         Cpl    0.587141"
      ]
     },
     "execution_count": 6,
     "metadata": {},
     "output_type": "execute_result"
    }
   ],
   "source": [
    "PCC2.head(12)"
   ]
  },
  {
   "cell_type": "markdown",
   "id": "fbb81547-25a8-4123-aacc-d25904c7fe73",
   "metadata": {},
   "source": [
    "We need to find the:\n",
    "- Process Mean\n",
    "- Process Standard Deviation\n",
    "- Upper Control Limit\n",
    "- Lower Control Limit\n",
    "- Control Width\t\n",
    "- Upper Spec Limit\n",
    "- Lower Spec Limit\n",
    "- Spec Width\n",
    "- Cp\n",
    "- Cpu\n",
    "- Cpl\n",
    "- Cpk\n",
    "\n",
    "answer the question, \"is this process capable?\""
   ]
  },
  {
   "cell_type": "markdown",
   "id": "3417cf58-e41b-4436-9f49-4421254a7020",
   "metadata": {},
   "source": [
    "## Calculate\n",
    "\n",
    "- Upper Control Limit = Mean + (3* SD) \n",
    "- Lower Control Limit = Mean - (3 * SD) \n",
    "- Control Width = UCL - LCL\n",
    "- Spec Width = USL - LSL\n",
    "- Cp = Spec Width / Control Width \n",
    "- Cpu = USL - UCL / (3*SD)\n",
    "- Cpl = LSL - LCL / (3*SD)\n",
    "- Cpk = Cpu\n",
    "\n"
   ]
  },
  {
   "cell_type": "code",
   "execution_count": 7,
   "id": "7c0562d9-5c43-49de-bff8-ae353793325f",
   "metadata": {},
   "outputs": [
    {
     "data": {
      "text/html": [
       "<div><div id=5bfe0756-07cb-4c39-a31f-85f639910b80 style=\"display:none; background-color:#9D6CFF; color:white; width:200px; height:30px; padding-left:5px; border-radius:4px; flex-direction:row; justify-content:space-around; align-items:center;\" onmouseover=\"this.style.backgroundColor='#BA9BF8'\" onmouseout=\"this.style.backgroundColor='#9D6CFF'\" onclick=\"window.commands?.execute('create-mitosheet-from-dataframe-output');\">See Full Dataframe in Mito</div> <script> if (window.commands.hasCommand('create-mitosheet-from-dataframe-output')) document.getElementById('5bfe0756-07cb-4c39-a31f-85f639910b80').style.display = 'flex' </script> <table border=\"1\" class=\"dataframe\">\n",
       "  <thead>\n",
       "    <tr style=\"text-align: right;\">\n",
       "      <th></th>\n",
       "      <th>data</th>\n",
       "    </tr>\n",
       "  </thead>\n",
       "  <tbody>\n",
       "    <tr>\n",
       "      <th>0</th>\n",
       "      <td>75</td>\n",
       "    </tr>\n",
       "    <tr>\n",
       "      <th>1</th>\n",
       "      <td>48</td>\n",
       "    </tr>\n",
       "    <tr>\n",
       "      <th>2</th>\n",
       "      <td>35</td>\n",
       "    </tr>\n",
       "    <tr>\n",
       "      <th>3</th>\n",
       "      <td>69</td>\n",
       "    </tr>\n",
       "    <tr>\n",
       "      <th>4</th>\n",
       "      <td>22</td>\n",
       "    </tr>\n",
       "  </tbody>\n",
       "</table></div>"
      ],
      "text/plain": [
       "   data\n",
       "0    75\n",
       "1    48\n",
       "2    35\n",
       "3    69\n",
       "4    22"
      ]
     },
     "execution_count": 7,
     "metadata": {},
     "output_type": "execute_result"
    }
   ],
   "source": [
    "PCD = pd.read_excel('process-capability-data.xlsx', header=None)\n",
    "PCD.rename(columns={0 :'data'}, inplace=True )\n",
    "PCD.head(5)"
   ]
  },
  {
   "cell_type": "code",
   "execution_count": 8,
   "id": "99c0aba3-868c-497b-99e3-8c06a6cfb92c",
   "metadata": {},
   "outputs": [
    {
     "data": {
      "text/plain": [
       "<AxesSubplot:>"
      ]
     },
     "execution_count": 8,
     "metadata": {},
     "output_type": "execute_result"
    },
    {
     "data": {
      "image/png": "[encoded data removed]",
      "text/plain": [
       "<Figure size 432x288 with 1 Axes>"
      ]
     },
     "metadata": {
      "needs_background": "light"
     },
     "output_type": "display_data"
    }
   ],
   "source": [
    "PCD.plot()"
   ]
  },
  {
   "cell_type": "code",
   "execution_count": 9,
   "id": "5d3660d7-fbfa-42a4-ab13-7cf5494e7e13",
   "metadata": {},
   "outputs": [
    {
     "data": {
      "text/plain": [
       "<AxesSubplot:>"
      ]
     },
     "execution_count": 9,
     "metadata": {},
     "output_type": "execute_result"
    },
    {
     "data": {
      "image/png": "[encoded data removed]",
      "text/plain": [
       "<Figure size 432x288 with 1 Axes>"
      ]
     },
     "metadata": {
      "needs_background": "light"
     },
     "output_type": "display_data"
    }
   ],
   "source": [
    "PCD.plot(kind = \"bar\")"
   ]
  },
  {
   "cell_type": "code",
   "execution_count": 10,
   "id": "87757132-5794-406f-b19d-aee0930fab1d",
   "metadata": {},
   "outputs": [
    {
     "data": {
      "text/plain": [
       "array([[<AxesSubplot:title={'center':'data'}>]], dtype=object)"
      ]
     },
     "execution_count": 10,
     "metadata": {},
     "output_type": "execute_result"
    },
    {
     "data": {
      "image/png": "[encoded data removed]",
      "text/plain": [
       "<Figure size 432x288 with 1 Axes>"
      ]
     },
     "metadata": {
      "needs_background": "light"
     },
     "output_type": "display_data"
    }
   ],
   "source": [
    "PCD.hist()"
   ]
  },
  {
   "cell_type": "code",
   "execution_count": 11,
   "id": "844d70d2-cb80-4790-b956-f05a47580bbc",
   "metadata": {},
   "outputs": [
    {
     "data": {
      "text/plain": [
       "<AxesSubplot:>"
      ]
     },
     "execution_count": 11,
     "metadata": {},
     "output_type": "execute_result"
    },
    {
     "data": {
      "image/png": "[encoded data removed]",
      "text/plain": [
       "<Figure size 432x288 with 1 Axes>"
      ]
     },
     "metadata": {
      "needs_background": "light"
     },
     "output_type": "display_data"
    }
   ],
   "source": [
    "PCD.plot.box()"
   ]
  },
  {
   "cell_type": "code",
   "execution_count": 12,
   "id": "6133987e-6a29-4eae-bca8-6eab8f31dcc9",
   "metadata": {},
   "outputs": [],
   "source": [
    "#pip install skimpy\n",
    "from skimpy import skim"
   ]
  },
  {
   "cell_type": "code",
   "execution_count": 13,
   "id": "fe665e83-efa9-4f3b-9b06-90316b366436",
   "metadata": {},
   "outputs": [
    {
     "data": {
      "text/html": [
       "<pre style=\"white-space:pre;overflow-x:auto;line-height:normal;font-family:Menlo,'DejaVu Sans Mono',consolas,'Courier New',monospace\">╭───────────────────────────────────── skimpy summary ──────────────────────────────────────╮\n",
       "│ <span style=\"font-style: italic\">         Data Summary         </span> <span style=\"font-style: italic\">      Data Types       </span>                                    │\n",
       "│ ┏━━━━━━━━━━━━━━━━━━━┳━━━━━━━━┓ ┏━━━━━━━━━━━━━┳━━━━━━━┓                                    │\n",
       "│ ┃<span style=\"color: #008080; text-decoration-color: #008080; font-weight: bold\"> dataframe         </span>┃<span style=\"color: #008080; text-decoration-color: #008080; font-weight: bold\"> Values </span>┃ ┃<span style=\"color: #008080; text-decoration-color: #008080; font-weight: bold\"> Column Type </span>┃<span style=\"color: #008080; text-decoration-color: #008080; font-weight: bold\"> Count </span>┃                                    │\n",
       "│ ┡━━━━━━━━━━━━━━━━━━━╇━━━━━━━━┩ ┡━━━━━━━━━━━━━╇━━━━━━━┩                                    │\n",
       "│ │ Number of rows    │ 30     │ │ int64       │ 1     │                                    │\n",
       "│ │ Number of columns │ 1      │ └─────────────┴───────┘                                    │\n",
       "│ └───────────────────┴────────┘                                                            │\n",
       "│ <span style=\"font-style: italic\">                                         number                                         </span>  │\n",
       "│ ┏━━━━━━━┳━━━━━━━━━━━┳━━━━━━━━━━━━━━━━━┳━━━━━━━┳━━━━━┳━━━━━┳━━━━━━┳━━━━━┳━━━━━━┳━━━━━━━━┓  │\n",
       "│ ┃<span style=\"font-weight: bold\">       </span>┃<span style=\"font-weight: bold\"> missing   </span>┃<span style=\"font-weight: bold\"> complete rate   </span>┃<span style=\"font-weight: bold\"> mean  </span>┃<span style=\"font-weight: bold\"> sd  </span>┃<span style=\"font-weight: bold\"> p0  </span>┃<span style=\"font-weight: bold\"> p25  </span>┃<span style=\"font-weight: bold\"> p75 </span>┃<span style=\"font-weight: bold\"> p100 </span>┃<span style=\"font-weight: bold\"> hist   </span>┃  │\n",
       "│ ┡━━━━━━━╇━━━━━━━━━━━╇━━━━━━━━━━━━━━━━━╇━━━━━━━╇━━━━━╇━━━━━╇━━━━━━╇━━━━━╇━━━━━━╇━━━━━━━━┩  │\n",
       "│ │ <span style=\"color: #af87ff; text-decoration-color: #af87ff\">data </span> │ <span style=\"color: #008080; text-decoration-color: #008080\">        0</span> │ <span style=\"color: #008080; text-decoration-color: #008080\">              1</span> │ <span style=\"color: #008080; text-decoration-color: #008080\">   40</span> │ <span style=\"color: #008080; text-decoration-color: #008080\"> 22</span> │ <span style=\"color: #008080; text-decoration-color: #008080\">  5</span> │ <span style=\"color: #008080; text-decoration-color: #008080\">  22</span> │ <span style=\"color: #008080; text-decoration-color: #008080\"> 58</span> │ <span style=\"color: #008080; text-decoration-color: #008080\">  75</span> │ <span style=\"color: #008000; text-decoration-color: #008000\">▇▅▆▆▃█</span> │  │\n",
       "│ └───────┴───────────┴─────────────────┴───────┴─────┴─────┴──────┴─────┴──────┴────────┘  │\n",
       "╰─────────────────────────────────────────── End ───────────────────────────────────────────╯\n",
       "</pre>\n"
      ],
      "text/plain": [
       "╭───────────────────────────────────── skimpy summary ──────────────────────────────────────╮\n",
       "│ \u001b[3m         Data Summary         \u001b[0m \u001b[3m      Data Types       \u001b[0m                                    │\n",
       "│ ┏━━━━━━━━━━━━━━━━━━━┳━━━━━━━━┓ ┏━━━━━━━━━━━━━┳━━━━━━━┓                                    │\n",
       "│ ┃\u001b[1;36m \u001b[0m\u001b[1;36mdataframe        \u001b[0m\u001b[1;36m \u001b[0m┃\u001b[1;36m \u001b[0m\u001b[1;36mValues\u001b[0m\u001b[1;36m \u001b[0m┃ ┃\u001b[1;36m \u001b[0m\u001b[1;36mColumn Type\u001b[0m\u001b[1;36m \u001b[0m┃\u001b[1;36m \u001b[0m\u001b[1;36mCount\u001b[0m\u001b[1;36m \u001b[0m┃                                    │\n",
       "│ ┡━━━━━━━━━━━━━━━━━━━╇━━━━━━━━┩ ┡━━━━━━━━━━━━━╇━━━━━━━┩                                    │\n",
       "│ │ Number of rows    │ 30     │ │ int64       │ 1     │                                    │\n",
       "│ │ Number of columns │ 1      │ └─────────────┴───────┘                                    │\n",
       "│ └───────────────────┴────────┘                                                            │\n",
       "│ \u001b[3m                                         number                                         \u001b[0m  │\n",
       "│ ┏━━━━━━━┳━━━━━━━━━━━┳━━━━━━━━━━━━━━━━━┳━━━━━━━┳━━━━━┳━━━━━┳━━━━━━┳━━━━━┳━━━━━━┳━━━━━━━━┓  │\n",
       "│ ┃\u001b[1m \u001b[0m\u001b[1m     \u001b[0m\u001b[1m \u001b[0m┃\u001b[1m \u001b[0m\u001b[1mmissing  \u001b[0m\u001b[1m \u001b[0m┃\u001b[1m \u001b[0m\u001b[1mcomplete rate  \u001b[0m\u001b[1m \u001b[0m┃\u001b[1m \u001b[0m\u001b[1mmean \u001b[0m\u001b[1m \u001b[0m┃\u001b[1m \u001b[0m\u001b[1msd \u001b[0m\u001b[1m \u001b[0m┃\u001b[1m \u001b[0m\u001b[1mp0 \u001b[0m\u001b[1m \u001b[0m┃\u001b[1m \u001b[0m\u001b[1mp25 \u001b[0m\u001b[1m \u001b[0m┃\u001b[1m \u001b[0m\u001b[1mp75\u001b[0m\u001b[1m \u001b[0m┃\u001b[1m \u001b[0m\u001b[1mp100\u001b[0m\u001b[1m \u001b[0m┃\u001b[1m \u001b[0m\u001b[1mhist  \u001b[0m\u001b[1m \u001b[0m┃  │\n",
       "│ ┡━━━━━━━╇━━━━━━━━━━━╇━━━━━━━━━━━━━━━━━╇━━━━━━━╇━━━━━╇━━━━━╇━━━━━━╇━━━━━╇━━━━━━╇━━━━━━━━┩  │\n",
       "│ │ \u001b[38;5;141mdata \u001b[0m │ \u001b[36m        0\u001b[0m │ \u001b[36m              1\u001b[0m │ \u001b[36m   40\u001b[0m │ \u001b[36m 22\u001b[0m │ \u001b[36m  5\u001b[0m │ \u001b[36m  22\u001b[0m │ \u001b[36m 58\u001b[0m │ \u001b[36m  75\u001b[0m │ \u001b[32m▇▅▆▆▃█\u001b[0m │  │\n",
       "│ └───────┴───────────┴─────────────────┴───────┴─────┴─────┴──────┴─────┴──────┴────────┘  │\n",
       "╰─────────────────────────────────────────── End ───────────────────────────────────────────╯\n"
      ]
     },
     "metadata": {},
     "output_type": "display_data"
    }
   ],
   "source": [
    "skim(PCD)"
   ]
  },
  {
   "cell_type": "markdown",
   "id": "ba14a6a6-2f16-435f-bef4-bf783e8e3da4",
   "metadata": {},
   "source": [
    "## Key Terms\n",
    "\n",
    "- Process Mean:\tThe same as the mean.\n",
    "- Upper Control Limit:\tThree standard deviations above the mean.\n",
    "- Lower Control Limit:\tThree standard deviations below the mean.\n",
    "- Process Capability:\tA measure of how \"well-behaved\" a process is.\n",
    "- Spec Limit:\tThe amount of variability that is allowed in a process. Can be determined by a manager, a customer, or a downstream need. These are predefined variables.\n",
    "- Upper Spec Limit = 14 \n",
    "- Lower Spec Limit = 13\n",
    "- Control Width:\tThe actual variability in a process.\n",
    "- Capability Index - Cp:\tSpec Limit divided by the control width. Not capable has a value of less than 1, marginally capable is 1-1.33, and fully capable has a value of greater than 1.33.\n",
    "- Cpk:\tA measure of how your data is currently doing.\n",
    "-\n",
    "\n",
    "\n",
    "## Calculate\n",
    "\n",
    "- Process Mean = Mean\n",
    "- Upper Control Limit = Mean + (3* SD) \n",
    "- Lower Control Limit = Mean - (3 * SD) \n",
    "- Control Width = UCL - LCL\n",
    "- Spec Width = USL - LSL\n",
    "- Cp = Spec Width / Control Width \n",
    "- Cpu = USL - Mean / (3*SD)\n",
    "- Cpl = Mean - LSL / (3*SD)\n",
    "- Cpk = Cpu"
   ]
  },
  {
   "cell_type": "code",
   "execution_count": 14,
   "id": "c2ae18f0-69da-46ff-b11c-63aa49f2f70a",
   "metadata": {},
   "outputs": [
    {
     "data": {
      "text/plain": [
       "data    39.966667\n",
       "dtype: float64"
      ]
     },
     "execution_count": 14,
     "metadata": {},
     "output_type": "execute_result"
    }
   ],
   "source": [
    "ProcessMean = PCD.mean()\n",
    "ProcessMean"
   ]
  },
  {
   "cell_type": "code",
   "execution_count": 15,
   "id": "d1c952e8-ae53-45fe-a459-f7389556cb7f",
   "metadata": {},
   "outputs": [
    {
     "data": {
      "text/plain": [
       "data    21.772307\n",
       "dtype: float64"
      ]
     },
     "execution_count": 15,
     "metadata": {},
     "output_type": "execute_result"
    }
   ],
   "source": [
    "ProcessStandardDeviation = PCD.std()\n",
    "ProcessStandardDeviation"
   ]
  },
  {
   "cell_type": "code",
   "execution_count": 16,
   "id": "84134ef5-f5aa-4142-bdc6-df9cb378e445",
   "metadata": {},
   "outputs": [
    {
     "data": {
      "text/plain": [
       "data    105.283586\n",
       "dtype: float64"
      ]
     },
     "execution_count": 16,
     "metadata": {},
     "output_type": "execute_result"
    }
   ],
   "source": [
    "# Upper Control Limit = Mean + (3* SD) \n",
    "UpperControlLimit = ProcessMean + (3 * ProcessStandardDeviation)\n",
    "UpperControlLimit"
   ]
  },
  {
   "cell_type": "code",
   "execution_count": 17,
   "id": "60df8323-65d5-4bee-ba8a-188ee23368ea",
   "metadata": {},
   "outputs": [
    {
     "data": {
      "text/plain": [
       "data   -25.350253\n",
       "dtype: float64"
      ]
     },
     "execution_count": 17,
     "metadata": {},
     "output_type": "execute_result"
    }
   ],
   "source": [
    "# Lower Control Limit = Mean - (3* SD) \n",
    "LowerControlLimit = ProcessMean - (3 * ProcessStandardDeviation)\n",
    "LowerControlLimit"
   ]
  },
  {
   "cell_type": "code",
   "execution_count": 18,
   "id": "fd8e68c2-67cf-4714-83b7-682b0bba99bc",
   "metadata": {},
   "outputs": [
    {
     "data": {
      "text/plain": [
       "data    130.633839\n",
       "dtype: float64"
      ]
     },
     "execution_count": 18,
     "metadata": {},
     "output_type": "execute_result"
    }
   ],
   "source": [
    "ControlWidth = UpperControlLimit - LowerControlLimit\n",
    "ControlWidth"
   ]
  },
  {
   "cell_type": "code",
   "execution_count": 19,
   "id": "f88b1399-9b97-4cb0-b338-a72937c0245f",
   "metadata": {},
   "outputs": [
    {
     "data": {
      "text/plain": [
       "1"
      ]
     },
     "execution_count": 19,
     "metadata": {},
     "output_type": "execute_result"
    }
   ],
   "source": [
    "UpperSpecLimit = 14\n",
    "LowerSpecLimit = 13\n",
    "SpecWidth = UpperSpecLimit - LowerSpecLimit\n",
    "SpecWidth"
   ]
  },
  {
   "cell_type": "code",
   "execution_count": 20,
   "id": "0a544fac-4455-4f5b-a7a6-6b1385d9cd1a",
   "metadata": {},
   "outputs": [
    {
     "name": "stdout",
     "output_type": "stream",
     "text": [
      "data    0.007655\n",
      "dtype: float64\n"
     ]
    }
   ],
   "source": [
    "# Cp = Spec Width / Control Width \n",
    "CapabilityIndex = SpecWidth / ControlWidth\n",
    "print(CapabilityIndex)"
   ]
  },
  {
   "cell_type": "markdown",
   "id": "ce31179f-6a60-4024-948f-ae9e6695ae8a",
   "metadata": {},
   "source": [
    "# Calculating Cpu Cpl\n",
    "\n",
    "<img src=\"CpuCpl.png\" align=\"left\" alt=\"Cpu Cpl equations\" width = \"400\" />"
   ]
  },
  {
   "cell_type": "code",
   "execution_count": 21,
   "id": "c54c2edb-db28-44d9-a4ea-49474a89be36",
   "metadata": {},
   "outputs": [
    {
     "name": "stdout",
     "output_type": "stream",
     "text": [
      "data   -0.397549\n",
      "dtype: float64\n",
      "data    0.412859\n",
      "dtype: float64\n"
     ]
    }
   ],
   "source": [
    "# Cpu = USL - Mean / (3*SD)\n",
    "UpperProcessCapability = (UpperSpecLimit - ProcessMean) / (3*ProcessStandardDeviation)\n",
    "\n",
    "# Cpl = Mean - LSL / (3*SD)\n",
    "LowerProcessCapability = (ProcessMean - LowerSpecLimit) / (3*ProcessStandardDeviation)\n",
    "\n",
    "print(UpperProcessCapability)\n",
    "print(LowerProcessCapability)"
   ]
  },
  {
   "cell_type": "markdown",
   "id": "153955b8-4baf-4e56-83e8-1aa176fbaa6b",
   "metadata": {},
   "source": [
    "# Calculating Capability Index (C<sub>pk</sub>)\n",
    "\n",
    "Now that you have both the C<sub>pu</sub> and the C<sub>pl</sub>, you just take whichever of those is smaller, and that is the C<sub>pk</sub>.\n",
    "\n",
    "Knowing the Cp of a process tells you whether you are even capable of fitting a process within a spec window, and knowing the Cpk tells you how you are currently doing."
   ]
  },
  {
   "cell_type": "code",
   "execution_count": 22,
   "id": "c6ec9be5-cf08-45a6-9ba3-4dd5890873fa",
   "metadata": {},
   "outputs": [
    {
     "data": {
      "text/plain": [
       "data   -0.397549\n",
       "dtype: float64"
      ]
     },
     "execution_count": 22,
     "metadata": {},
     "output_type": "execute_result"
    }
   ],
   "source": [
    "# UpperProcessCapability = -0.397549\n",
    "Cpk = UpperProcessCapability\n",
    "Cpk"
   ]
  },
  {
   "cell_type": "code",
   "execution_count": null,
   "id": "80219113-38be-4d0a-9943-f2a345dd7afd",
   "metadata": {},
   "outputs": [],
   "source": []
  }
 ],
 "metadata": {
  "kernelspec": {
   "display_name": "Python 3 (ipykernel)",
   "language": "python",
   "name": "python3"
  },
  "language_info": {
   "codemirror_mode": {
    "name": "ipython",
    "version": 3
   },
   "file_extension": ".py",
   "mimetype": "text/x-python",
   "name": "python",
   "nbconvert_exporter": "python",
   "pygments_lexer": "ipython3",
   "version": "3.9.15"
  }
 },
 "nbformat": 4,
 "nbformat_minor": 5
}
