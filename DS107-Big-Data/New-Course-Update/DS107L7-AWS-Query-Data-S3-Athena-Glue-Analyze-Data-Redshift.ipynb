{
 "cells": [
  {
   "cell_type": "markdown",
   "id": "50e6ddbb-52d3-4a02-9b69-100a4181e3b0",
   "metadata": {},
   "source": [
    "# DS107 Big Data : Query-Data-S3-Athena-Glue-Analyze-Data-Redshift"
   ]
  },
  {
   "cell_type": "markdown",
   "id": "d1bd4bfc-9b15-4b80-87b4-b8b60eb56371",
   "metadata": {},
   "source": [
    "### Table of Contents <a class=\"anchor\" id=\"DS107L7_toc\"></a>\n",
    "\n",
    "* [Table of Contents](#DS107L7_toc)\n",
    "    * [Page 1 - Introduction ](#DS107L7_page_1)\n",
    "    * [Page 2 - ](#DS107L7_page_2)\n",
    "    * [Page 3 - ](#DS107L7_page_3)\n",
    "    * [Page 4 - ](#DS107L7_page_4)\n",
    "    * [Page 5 - Data Analytics Lab 3 - Query Data in Amazon S3 with Amazon Athena and AWS Glue](#DS107L7_page_5)\n",
    "    * [Page 6 - ](#DS107L7_page_6)\n",
    "    * [Page 7 - ](#DS107L7_page_7)\n",
    "    * [Page 8 - ](#DS107L7_page_8)\n",
    "    * [Page 9 - ](#DS107L7_page_9)\n",
    "    * [Page 10 - Data Analytics Lab 4 - Analyze Data with Amazon Redshift ](#DS107L7_page_10)\n",
    "    * [Page 11 - Key Terms](#DS107L7_page_11)\n",
    "    * [Page 12 - ](#DS107L7_page_12)\n",
    "    "
   ]
  },
  {
   "cell_type": "markdown",
   "id": "ef5a8c65-ed48-4354-a257-e01b0fd733d4",
   "metadata": {},
   "source": [
    "<hr style=\"height:10px;border-width:0;color:gray;background-color:gray\">\n",
    "\n",
    "# Page 1 - Overview of this Module<a class=\"anchor\" id=\"DS107L7_page_1\"></a>\n",
    "\n",
    "[Back to Top](#DS107L7_toc)\n",
    "\n",
    "<hr style=\"height:10px;border-width:0;color:gray;background-color:gray\">"
   ]
  },
  {
   "cell_type": "markdown",
   "id": "d5cf1c83-9641-4dda-8d64-0e2cf29fe99b",
   "metadata": {},
   "source": [
    "<hr style=\"height:10px;border-width:0;color:gray;background-color:gray\">\n",
    "\n",
    "# Page 5 - Data Analytics Lab 3 - Query Data in Amazon S3 with Amazon Athena and AWS Glue\n",
    "<a class=\"anchor\" id=\"DS107L7_page_5\"></a>\n",
    "\n",
    "[Back to Top](#DS107L7_toc)\n",
    "\n",
    "<hr style=\"height:10px;border-width:0;color:gray;background-color:gray\">"
   ]
  },
  {
   "cell_type": "code",
   "execution_count": 1,
   "id": "89c77787-9c49-4866-b6a0-5801a216771b",
   "metadata": {},
   "outputs": [
    {
     "data": {
      "text/html": [
       "\n",
       "        <iframe\n",
       "            width=\"720\"\n",
       "            height=\"480\"\n",
       "            src=\"https://player.vimeo.com/video/762068599\"\n",
       "            frameborder=\"0\"\n",
       "            allowfullscreen\n",
       "            \n",
       "        ></iframe>\n",
       "        "
      ],
      "text/plain": [
       "<IPython.lib.display.VimeoVideo at 0x16ba31bb0>"
      ]
     },
     "execution_count": 1,
     "metadata": {},
     "output_type": "execute_result"
    }
   ],
   "source": [
    "#https://vimeo.com/762068599\n",
    "from IPython.display import VimeoVideo\n",
    "## Tutorial Video Name: Data Analytics Lab 3 - Query Data in Amazon S3 with Amazon Athena and AWS Glue\n",
    "VimeoVideo('762068599', width=720, height=480)"
   ]
  },
  {
   "cell_type": "markdown",
   "id": "05da1df9-5efe-42b7-b3e6-7ed9fbfc55d5",
   "metadata": {},
   "source": [
    "<hr style=\"height:10px;border-width:0;color:gray;background-color:gray\">\n",
    "\n",
    "# Page 10 - Data Analytics Lab 4 - Analyze Data with Amazon Redshift\n",
    "<a class=\"anchor\" id=\"DS107L7_page_10\"></a>\n",
    "\n",
    "[Back to Top](#DS107L7_toc)\n",
    "\n",
    "<hr style=\"height:10px;border-width:0;color:gray;background-color:gray\">"
   ]
  },
  {
   "cell_type": "code",
   "execution_count": 2,
   "id": "f29ff1b9-f2c4-4ba1-a73f-e87afd17769b",
   "metadata": {},
   "outputs": [
    {
     "data": {
      "text/html": [
       "\n",
       "        <iframe\n",
       "            width=\"720\"\n",
       "            height=\"480\"\n",
       "            src=\"https://player.vimeo.com/video/762346055\"\n",
       "            frameborder=\"0\"\n",
       "            allowfullscreen\n",
       "            \n",
       "        ></iframe>\n",
       "        "
      ],
      "text/plain": [
       "<IPython.lib.display.VimeoVideo at 0x16ba31c70>"
      ]
     },
     "execution_count": 2,
     "metadata": {},
     "output_type": "execute_result"
    }
   ],
   "source": [
    "#https://vimeo.com/762346055\n",
    "from IPython.display import VimeoVideo\n",
    "## Tutorial Video Name: Data Analytics Lab 4 - Analyze Data with Amazon Redshift \n",
    "VimeoVideo('762346055', width=720, height=480)"
   ]
  },
  {
   "cell_type": "markdown",
   "id": "adac28b2-bd6d-4cd9-a650-7cb17b9731b9",
   "metadata": {},
   "source": [
    "<hr style=\"height:10px;border-width:0;color:gray;background-color:gray\">\n",
    "\n",
    "# Page 11 - Key Terms<a class=\"anchor\" id=\"DS107L7_page_11\"></a>\n",
    "\n",
    "[Back to Top](#DS107L7_toc)\n",
    "\n",
    "<hr style=\"height:10px;border-width:0;color:gray;background-color:gray\">"
   ]
  },
  {
   "cell_type": "markdown",
   "id": "4965298f-1f78-41f4-9b45-f1f23a0445b7",
   "metadata": {},
   "source": [
    "# Key Terms\n",
    "\n",
    "Below is a list and short description of the important keywords learned in this lesson. Please read through and go back and review any concepts you do not fully understand. Great Work!\n",
    "\n",
    "<table class=\"table table-striped\">\n",
    "    <tr>\n",
    "        <th>Keyword</th>\n",
    "        <th>Description</th>\n",
    "    </tr>\n",
    "    <tr>\n",
    "        <td style=\"font-weight: bold;\" nowrap>AWS</td>\n",
    "        <td>Amazon Web Services; a cloud services platform.</td>\n",
    "    </tr>\n",
    "    <tr>\n",
    "        <td style=\"font-weight: bold;\" nowrap>EC2</td>\n",
    "        <td>Elastic Compute Cloud; a virtual computer to which you can connect remotely.</td>\n",
    "    </tr>\n",
    "    <tr>\n",
    "        <td style=\"font-weight: bold;\" nowrap>PuTTY</td>\n",
    "        <td>A program that allows Windows machines to securely connect to a virtual machine.</td>\n",
    "    </tr>\n",
    "    <tr>\n",
    "        <td style=\"font-weight: bold;\" nowrap>.ppk file</td>\n",
    "        <td>A PuTTY private key file.</td>\n",
    "    </tr>\n",
    "    <tr>\n",
    "        <td style=\"font-weight: bold;\" nowrap>.pem file</td>\n",
    "        <td>The security key type for Mac / Linux machines.</td>\n",
    "    </tr>\n",
    "</table>\n",
    "\n",
    "---\n",
    "\n",
    "## Key Command Line Code\n",
    "\n",
    "<table class=\"table table-striped\">\n",
    "    <tr>\n",
    "        <th>Keyword</th>\n",
    "        <th>Description</th>\n",
    "    </tr>\n",
    "    <tr>\n",
    "        <td style=\"font-weight: bold;\" nowrap>wget</td>\n",
    "        <td>Allows you to pick up data or packages from a website.</td>\n",
    "    </tr>\n",
    "    <tr>\n",
    "        <td style=\"font-weight: bold;\" nowrap>mkdir</td>\n",
    "        <td>Makes a directory. </td>\n",
    "    </tr>\n",
    "    <tr>\n",
    "        <td style=\"font-weight: bold;\" nowrap>cd</td>\n",
    "        <td>Changes a directory.</td>\n",
    "    </tr>\n",
    "    <tr>\n",
    "        <td style=\"font-weight: bold;\" nowrap>sudo</td>\n",
    "        <td>Stands for \"super user do.\" It allows you to do things with a different permission level that you might not be able to otherwise.</td>\n",
    "    </tr>\n",
    "    <tr>\n",
    "        <td style=\"font-weight: bold;\" nowrap>vi</td>\n",
    "        <td>Brings up the visual interface, or a text editor accessed through the command prompt. When inside the vi, type i to insert code, and :wq! :x or :x! to exit.</td>\n",
    "    </tr>\n",
    "    <tr>\n",
    "        <td style=\"font-weight: bold;\" nowrap>-version</td>\n",
    "        <td>Tells you the version of a program you are running or have installed.</td>\n",
    "    </tr>\n",
    "    <tr>\n",
    "        <td style=\"font-weight: bold;\" nowrap>install</td>\n",
    "        <td>Installs software.</td>\n",
    "    </tr>\n",
    "    <tr>\n",
    "        <td style=\"font-weight: bold;\" nowrap>update</td>\n",
    "        <td>Updates software.</td>\n",
    "    </tr>\n",
    "    <tr>\n",
    "        <td style=\"font-weight: bold;\" nowrap>pip install</td>\n",
    "        <td>Installs packages for Python.</td>\n",
    "    </tr>\n",
    "    <tr>\n",
    "        <td style=\"font-weight: bold;\" nowrap>tar</td>\n",
    "        <td>Unzips files.</td>\n",
    "    </tr>\n",
    "</table>"
   ]
  }
 ],
 "metadata": {
  "kernelspec": {
   "display_name": "Python 3 (ipykernel)",
   "language": "python",
   "name": "python3"
  },
  "language_info": {
   "codemirror_mode": {
    "name": "ipython",
    "version": 3
   },
   "file_extension": ".py",
   "mimetype": "text/x-python",
   "name": "python",
   "nbconvert_exporter": "python",
   "pygments_lexer": "ipython3",
   "version": "3.9.15"
  }
 },
 "nbformat": 4,
 "nbformat_minor": 5
}
