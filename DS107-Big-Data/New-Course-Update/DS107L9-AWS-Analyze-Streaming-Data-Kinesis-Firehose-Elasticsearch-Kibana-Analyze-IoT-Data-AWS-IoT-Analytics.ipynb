{
 "cells": [
  {
   "cell_type": "markdown",
   "id": "50e6ddbb-52d3-4a02-9b69-100a4181e3b0",
   "metadata": {},
   "source": [
    "# DS107 Big Data : Lesson Nine Companion Notebook"
   ]
  },
  {
   "cell_type": "markdown",
   "id": "d1bd4bfc-9b15-4b80-87b4-b8b60eb56371",
   "metadata": {},
   "source": [
    "### Table of Contents <a class=\"anchor\" id=\"DS107L9_toc\"></a>\n",
    "\n",
    "* [Table of Contents](#DS107L9_toc)\n",
    "    * [Page 1 - ](#DS107L9_page_1)\n",
    "    * [Page 2 - ](#DS107L9_page_2)\n",
    "    * [Page 3 - ](#DS107L9_page_3)\n",
    "    * [Page 4 - ](#DS107L9_page_4)\n",
    "    * [Page 5 - Data Analytics Lab 7 - Analyze Streaming Data with Amazon Kinesis Data Firehose, Amazon Elasticsearch Service, and Kibana](#DS107L9_page_5)\n",
    "    * [Page 6 - ](#DS107L9_page_6)\n",
    "    * [Page 7 - ](#DS107L9_page_7)\n",
    "    * [Page 8 - Data Analytics Lab 8 - Analyze IoT Data with AWS IoT Analytics](#DS107L9_page_8)\n",
    "    * [Page 9 - ](#DS107L9_page_9)\n",
    "    * [Page 10 - ](#DS107L9_page_10)\n",
    "    "
   ]
  },
  {
   "cell_type": "markdown",
   "id": "ef5a8c65-ed48-4354-a257-e01b0fd733d4",
   "metadata": {},
   "source": [
    "<hr style=\"height:10px;border-width:0;color:gray;background-color:gray\">\n",
    "\n",
    "# Page 1 - Overview of this Module<a class=\"anchor\" id=\"DS107L9_page_1\"></a>\n",
    "\n",
    "[Back to Top](#DS107L9_toc)\n",
    "\n",
    "<hr style=\"height:10px;border-width:0;color:gray;background-color:gray\">"
   ]
  },
  {
   "cell_type": "code",
   "execution_count": null,
   "id": "9ee2caea-9edc-45d2-80e7-3f9af3c51d50",
   "metadata": {},
   "outputs": [],
   "source": []
  },
  {
   "cell_type": "markdown",
   "id": "5b6ad526-95fa-43c4-bc43-1fe807708ed3",
   "metadata": {},
   "source": []
  },
  {
   "cell_type": "markdown",
   "id": "7990ac7a-5a2f-4744-af14-1b7e385ea484",
   "metadata": {},
   "source": [
    "<hr style=\"height:10px;border-width:0;color:gray;background-color:gray\">\n",
    "\n",
    "# Page 2 - <a class=\"anchor\" id=\"DS107L9_page_2\"></a>\n",
    "\n",
    "[Back to Top](#DS107L9_toc)\n",
    "\n",
    "<hr style=\"height:10px;border-width:0;color:gray;background-color:gray\">\n"
   ]
  },
  {
   "cell_type": "code",
   "execution_count": null,
   "id": "4b79bd6c-6d19-483c-beab-3047151c4bd2",
   "metadata": {},
   "outputs": [],
   "source": []
  },
  {
   "cell_type": "markdown",
   "id": "612429df-e4ef-4d85-8460-5bc8914079c3",
   "metadata": {},
   "source": []
  },
  {
   "cell_type": "markdown",
   "id": "832358fd-55fa-420a-8aa2-46fbf2097986",
   "metadata": {},
   "source": [
    "<hr style=\"height:10px;border-width:0;color:gray;background-color:gray\">\n",
    "\n",
    "# Page 3 - <a class=\"anchor\" id=\"DS107L9_page_3\"></a>\n",
    "\n",
    "[Back to Top](#DS107L9_toc)\n",
    "\n",
    "<hr style=\"height:10px;border-width:0;color:gray;background-color:gray\">\n"
   ]
  },
  {
   "cell_type": "code",
   "execution_count": null,
   "id": "5e9960ef-aeaa-4a94-a7fa-f3d575f6b193",
   "metadata": {},
   "outputs": [],
   "source": []
  },
  {
   "cell_type": "markdown",
   "id": "f564e3e7-3a7f-4936-b3a3-2e0a9ab78512",
   "metadata": {},
   "source": []
  },
  {
   "cell_type": "markdown",
   "id": "bb1aade2-59af-4cbc-b5ed-da31e39f266d",
   "metadata": {},
   "source": [
    "<hr style=\"height:10px;border-width:0;color:gray;background-color:gray\">\n",
    "\n",
    "# Page 4 - <a class=\"anchor\" id=\"DS107L9_page_4\"></a>\n",
    "\n",
    "[Back to Top](#DS107L9_toc)\n",
    "\n",
    "<hr style=\"height:10px;border-width:0;color:gray;background-color:gray\">\n"
   ]
  },
  {
   "cell_type": "code",
   "execution_count": null,
   "id": "97a5eb3c-a46f-490a-8329-161ee20e9cc1",
   "metadata": {},
   "outputs": [],
   "source": []
  },
  {
   "cell_type": "markdown",
   "id": "eba2ed6e-98dd-43f7-8761-6ecc9a13af08",
   "metadata": {},
   "source": []
  },
  {
   "cell_type": "markdown",
   "id": "ead4ad3c-2fe6-457e-8924-1410e951bebd",
   "metadata": {},
   "source": [
    "<hr style=\"height:10px;border-width:0;color:gray;background-color:gray\">\n",
    "\n",
    "# Page 5 - Data Analytics Lab 7 - Analyze Streaming Data with Amazon Kinesis Data Firehose, Amazon Elasticsearch Service, and Kibana<a class=\"anchor\" id=\"DS107L9_page_5\"></a>\n",
    "\n",
    "[Back to Top](#DS107L9_toc)\n",
    "\n",
    "<hr style=\"height:10px;border-width:0;color:gray;background-color:gray\">\n"
   ]
  },
  {
   "cell_type": "code",
   "execution_count": 4,
   "id": "28487cbe-1808-4c23-a473-232d31db17fd",
   "metadata": {},
   "outputs": [
    {
     "data": {
      "text/html": [
       "\n",
       "        <iframe\n",
       "            width=\"720\"\n",
       "            height=\"480\"\n",
       "            src=\"https://player.vimeo.com/video/762741810\"\n",
       "            frameborder=\"0\"\n",
       "            allowfullscreen\n",
       "            \n",
       "        ></iframe>\n",
       "        "
      ],
      "text/plain": [
       "<IPython.lib.display.VimeoVideo at 0x16c3bdbe0>"
      ]
     },
     "execution_count": 4,
     "metadata": {},
     "output_type": "execute_result"
    }
   ],
   "source": [
    "#https://vimeo.com/762741810\n",
    "from IPython.display import VimeoVideo\n",
    "# Tutorial Video Name: Data Analytics Lab 7 - Analyze Streaming Data with Amazon Kinesis Data Firehose, Amazon Elasticsearch Service, and Kibana\n",
    "VimeoVideo('762741810', width=720, height=480)"
   ]
  },
  {
   "cell_type": "markdown",
   "id": "bbbc06a2-e702-47a1-942f-cbcbe31221a7",
   "metadata": {},
   "source": []
  },
  {
   "cell_type": "markdown",
   "id": "dd9e3b8a-9224-447f-8cf7-5035cae86421",
   "metadata": {},
   "source": [
    "<hr style=\"height:10px;border-width:0;color:gray;background-color:gray\">\n",
    "\n",
    "# Page 6 - <a class=\"anchor\" id=\"DS107L9_page_6\"></a>\n",
    "\n",
    "[Back to Top](#DS107L9_toc)\n",
    "\n",
    "<hr style=\"height:10px;border-width:0;color:gray;background-color:gray\">\n"
   ]
  },
  {
   "cell_type": "code",
   "execution_count": null,
   "id": "0107f93c-1676-4baf-bd98-edd71207f7e2",
   "metadata": {},
   "outputs": [],
   "source": []
  },
  {
   "cell_type": "markdown",
   "id": "a81e2098-28ef-4ff5-a155-afe824de4323",
   "metadata": {},
   "source": []
  },
  {
   "cell_type": "markdown",
   "id": "42cb7d8a-aced-42e5-ac24-32acf8c95473",
   "metadata": {
    "tags": []
   },
   "source": [
    "<hr style=\"height:10px;border-width:0;color:gray;background-color:gray\">\n",
    "\n",
    "# Page 7 - <a class=\"anchor\" id=\"DS107L9_page_7\"></a>\n",
    "\n",
    "[Back to Top](#DS107L9_toc)\n",
    "\n",
    "<hr style=\"height:10px;border-width:0;color:gray;background-color:gray\">\n"
   ]
  },
  {
   "cell_type": "code",
   "execution_count": null,
   "id": "9826c053-8df1-49eb-a2c9-30c7446344e7",
   "metadata": {},
   "outputs": [],
   "source": []
  },
  {
   "cell_type": "markdown",
   "id": "cf0debaf-5fae-4035-8e7d-ae62e62456cb",
   "metadata": {},
   "source": []
  },
  {
   "cell_type": "markdown",
   "id": "d7b3f800-0a14-4d13-8c32-390965c537ca",
   "metadata": {},
   "source": [
    "<hr style=\"height:10px;border-width:0;color:gray;background-color:gray\">\n",
    "\n",
    "# Page 8 - Data Analytics Lab 8 - Analyze IoT Data with AWS IoT Analytics<a class=\"anchor\" id=\"DS107L9_page_8\"></a>\n",
    "\n",
    "[Back to Top](#DS107L9_toc)\n",
    "\n",
    "<hr style=\"height:10px;border-width:0;color:gray;background-color:gray\">\n"
   ]
  },
  {
   "cell_type": "code",
   "execution_count": 5,
   "id": "2c92feb2-fb77-4124-b0f5-e6bcf0b1ae94",
   "metadata": {},
   "outputs": [
    {
     "data": {
      "text/html": [
       "\n",
       "        <iframe\n",
       "            width=\"720\"\n",
       "            height=\"480\"\n",
       "            src=\"https://player.vimeo.com/video/762759934\"\n",
       "            frameborder=\"0\"\n",
       "            allowfullscreen\n",
       "            \n",
       "        ></iframe>\n",
       "        "
      ],
      "text/plain": [
       "<IPython.lib.display.VimeoVideo at 0x16c3bd880>"
      ]
     },
     "execution_count": 5,
     "metadata": {},
     "output_type": "execute_result"
    }
   ],
   "source": [
    "#https://vimeo.com/762759934\n",
    "from IPython.display import VimeoVideo\n",
    "# Tutorial Video Name: Data Analytics Lab 8 - Analyze IoT Data with AWS IoT Analytics\n",
    "VimeoVideo('762759934', width=720, height=480)"
   ]
  },
  {
   "cell_type": "markdown",
   "id": "36943bcd-7e16-4af1-97d3-c09e81ae5e99",
   "metadata": {},
   "source": [
    "<hr style=\"height:10px;border-width:0;color:gray;background-color:gray\">\n",
    "\n",
    "# Page 9 - Key Terms<a class=\"anchor\" id=\"DS107L9_page_9\"></a>\n",
    "\n",
    "[Back to Top](#DS107L9_toc)\n",
    "\n",
    "<hr style=\"height:10px;border-width:0;color:gray;background-color:gray\">\n"
   ]
  },
  {
   "cell_type": "markdown",
   "id": "fdf2cdde-9447-49b5-8936-17d80f46b45e",
   "metadata": {},
   "source": [
    "# Key Terms\n",
    "\n",
    "Below, is a list and short description of the central keywords you have learned in this lesson. Please read through and go back and review any concepts you don't understand fully. Great Work!\n",
    "\n",
    "\n",
    "<table class=\"table table-striped\">\n",
    "    <tr>\n",
    "        <th>Keyword</th>\n",
    "        <th>Description</th>\n",
    "    </tr>\n",
    "    <tr>\n",
    "        <td style=\"font-weight: bold;\" nowrap>Source Control Management System (SCM)</td>\n",
    "        <td>A program to help manage different versions of code done by different people.</td>\n",
    "    </tr>\n",
    "    <tr>\n",
    "        <td style=\"font-weight: bold;\" nowrap>GitHub</td>\n",
    "        <td>A central repository where you can share your work publicly.</td>\n",
    "    </tr>\n",
    "    <tr>\n",
    "        <td style=\"font-weight: bold;\" nowrap>GitKraken</td>\n",
    "        <td>A GUI to make source control easy!</td>\n",
    "    </tr>\n",
    "    <tr>\n",
    "        <td style=\"font-weight: bold;\" nowrap>Commit</td>\n",
    "        <td>A snapshot of the contents of one or more files.</td>\n",
    "    </tr>\n",
    "    <tr>\n",
    "        <td style=\"font-weight: bold;\" nowrap>Repository (repo)</td>\n",
    "        <td>A collection of commits.</td>\n",
    "    </tr>\n",
    "    <tr>\n",
    "        <td style=\"font-weight: bold;\" nowrap>Readme</td>\n",
    "        <td>File that contains information about a project and should be read first.</td>\n",
    "    </tr>\n",
    "    <tr>\n",
    "        <td style=\"font-weight: bold;\" nowrap>Cloning</td>\n",
    "        <td>The process of making a copy of your GitHub repository.</td>\n",
    "    </tr>\n",
    "    <tr>\n",
    "        <td style=\"font-weight: bold;\" nowrap>Branch</td>\n",
    "        <td>A marker that points to a particular commit.</td>\n",
    "    </tr>\n",
    "    <tr>\n",
    "        <td style=\"font-weight: bold;\" nowrap>Remote</td>\n",
    "        <td>All the locations that contain copies of the repo that your local repo knows about.</td>\n",
    "    </tr>\n",
    "    <tr>\n",
    "        <td style=\"font-weight: bold;\" nowrap>Push</td>\n",
    "        <td>Make your changes available to the public and other team members.</td>\n",
    "    </tr>\n",
    "    <tr>\n",
    "        <td style=\"font-weight: bold;\" nowrap>Pull</td>\n",
    "        <td>Download the most recent changes to a repository to your local machine.</td>\n",
    "    </tr>\n",
    "    <tr>\n",
    "        <td style=\"font-weight: bold;\" nowrap>Merge</td>\n",
    "        <td>Combining the contents of two branches together.</td>\n",
    "    </tr>\n",
    "    <tr>\n",
    "        <td style=\"font-weight: bold;\" nowrap>Origin</td>\n",
    "        <td>The location you cloned the repo from, typically GitHub or another server, this is a specific remote.</td>\n",
    "    </tr>\n",
    "    <tr>\n",
    "        <td style=\"font-weight: bold;\" nowrap>Local</td>\n",
    "        <td>The machine you are performing the Git operation on.</td>\n",
    "    </tr>\n",
    "    <tr>\n",
    "        <td style=\"font-weight: bold;\" nowrap>Force Push</td>\n",
    "        <td>Forcing GitKraken to take your changes over someone else's in a repository.</td>\n",
    "    </tr>\n",
    "</table>"
   ]
  },
  {
   "cell_type": "markdown",
   "id": "2a0d02d5-04fa-4220-9637-d02c3b32dce5",
   "metadata": {},
   "source": [
    "<hr style=\"height:10px;border-width:0;color:gray;background-color:gray\">\n",
    "\n",
    "# Page 10 - Lesson 9 Practice Hands-On<a class=\"anchor\" id=\"DS107L9_page_10\"></a>\n",
    "\n",
    "[Back to Top](#DS107L9_toc)\n",
    "\n",
    "<hr style=\"height:10px;border-width:0;color:gray;background-color:gray\">"
   ]
  },
  {
   "cell_type": "markdown",
   "id": "b1877fa9-5fb3-449b-8a71-1809e1660217",
   "metadata": {},
   "source": [
    "# Practice Hands-On\n",
    "\n",
    "For this Practice Hands On, you are going to create a repository and pushing it to Git Hub. You will also practice cloning a repo from Git Hub. Be sure to complete both parts! This Hands-On will **not** be graded, but you are encouraged to complete it. You will not need to submit this project, as there will not be much to submit. However, it is essential to practice these Git Hub skills. There will also be no solution, so if you have questions, please reach out!\n",
    "\n",
    "----\n",
    "\n",
    "## Part 1\n",
    "\n",
    "* Create a new repository on your computer using GitKraken.\n",
    "* Make a new project on GitHub, **_but don't initialize it yet_**.\n",
    "* Insert a new remote named `origin` to your repository using the SSH URL for the repo provided by GitHub.\n",
    "* Make a commit to your local repo.\n",
    "* Push the changes and the `master` branch to `origin`.\n",
    "* Confirm you can see the commit on GitHub.\n",
    "\n",
    "---\n",
    "\n",
    "## Part 2\n",
    "\n",
    "* Clone the repo at: **<a href=\"https://github.com/woz-u/merge-conflict-example\" target=\"_blank\"><b>Merge conflict example on GitHub</b></a>**\n",
    "\n",
    "* Examine the changes made to both the `master` and `creative-interpretation` branches.\n",
    "  * Merge `creative-interpretation` into `master`.\n",
    "  * Resolve all the conflicts.\n",
    "* When you are done, your `Scene 2` file should match **<a href=\"https://shakespeare.mit.edu/macbeth/macbeth.1.2.html\" target=\"_blank\"><b>this Scene 2</b></a>** with the addition of the lines:\n",
    "\n",
    "    ```text\n",
    "    (c) 1623 William Shakespeare\n",
    "    Macbeth source provided by http://shakespeare.mit.edu/macbeth/index.html\n",
    "    ```\n",
    "\n",
    "3. Establish a Github Organization and Repository. "
   ]
  }
 ],
 "metadata": {
  "kernelspec": {
   "display_name": "Python 3 (ipykernel)",
   "language": "python",
   "name": "python3"
  },
  "language_info": {
   "codemirror_mode": {
    "name": "ipython",
    "version": 3
   },
   "file_extension": ".py",
   "mimetype": "text/x-python",
   "name": "python",
   "nbconvert_exporter": "python",
   "pygments_lexer": "ipython3",
   "version": "3.9.15"
  }
 },
 "nbformat": 4,
 "nbformat_minor": 5
}
