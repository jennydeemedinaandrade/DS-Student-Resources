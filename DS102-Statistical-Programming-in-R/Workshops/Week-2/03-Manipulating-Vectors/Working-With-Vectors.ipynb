{
 "cells": [
  {
   "cell_type": "markdown",
   "id": "071707d9-33de-408c-af4f-9a9d339cecfb",
   "metadata": {},
   "source": [
    "# Working with Vectors"
   ]
  },
  {
   "cell_type": "code",
   "execution_count": 2,
   "id": "99933c6a-3d03-4d43-8f04-80b793d69f87",
   "metadata": {},
   "outputs": [
    {
     "name": "stdout",
     "output_type": "stream",
     "text": [
      "\n",
      "The downloaded binary packages are in\n",
      "\t/var/folders/wk/6why77bn1kn0l0pkd4vd3zl00000gn/T//RtmpcCi0ow/downloaded_packages\n"
     ]
    }
   ],
   "source": [
    "install.packages(\"vembedr\")"
   ]
  },
  {
   "cell_type": "code",
   "execution_count": 3,
   "id": "a73c1b78-dfc7-43da-97e3-3d2a8f375e3f",
   "metadata": {},
   "outputs": [],
   "source": [
    "library(\"vembedr\")"
   ]
  },
  {
   "cell_type": "code",
   "execution_count": 4,
   "id": "c3d202fc-5edb-4734-8523-ddcbdb84fa18",
   "metadata": {},
   "outputs": [
    {
     "data": {
      "text/html": [
       "<!doctype html>\n",
       "<html>\n",
       "\t<head>\n",
       "\t\t<meta charset=\"utf-8\">\n",
       "\t\t<link href=\"data:text/css;charset-utf-8;base64,LnZlbWJlZHIgewogIG1hcmdpbi1ib3R0b206IDEwcHg7Cn0KCi52ZW1iZWRyLXJvdW5kZWQgewogIGRpc3BsYXk6IGlubGluZS1ibG9jazsKICBib3JkZXItcmFkaXVzOiAxNXB4OwogIG92ZXJmbG93OiBoaWRkZW47Cn0KCi52ZW1iZWRyLXJvdW5kZWQgaWZyYW1lIHsKICBkaXNwbGF5OiBibG9jazsKICBib3JkZXI6IG5vbmU7Cn0K\" rel=\"stylesheet\" />\n",
       "\t</head>\n",
       "\t<body>\n",
       "\t\t<div class=\"vembedr\">\n",
       "  <div>\n",
       "    <iframe class=\"vimeo-embed\" src=\"https://player.vimeo.com/video/644142101\" width=\"533\" height=\"300\" frameborder=\"0\" webkitallowfullscreen=\"\" mozallowfullscreen=\"\" allowfullscreen=\"\" data-external=\"1\"></iframe>\n",
       "  </div>\n",
       "</div>\n",
       "\t</body>\n",
       "</html>\n"
      ],
      "text/plain": [
       "Shiny tags cannot be represented in plain text (need html)"
      ]
     },
     "metadata": {
      "text/html": {
       "isolated": true
      }
     },
     "output_type": "display_data"
    }
   ],
   "source": [
    "embed_vimeo(\"644142101\")"
   ]
  },
  {
   "cell_type": "markdown",
   "id": "f947a3ab-3487-450a-91cb-cf6c0d317e0b",
   "metadata": {},
   "source": [
    "https://vimeo.com/644142101"
   ]
  },
  {
   "cell_type": "code",
   "execution_count": 4,
   "id": "a5fbc38c-9725-4ac1-9dae-7ff210b158c7",
   "metadata": {},
   "outputs": [
    {
     "data": {
      "text/html": [
       "<table class=\"dataframe\">\n",
       "<caption>A data.frame: 6 × 2</caption>\n",
       "<thead>\n",
       "\t<tr><th></th><th scope=col>count</th><th scope=col>spray</th></tr>\n",
       "\t<tr><th></th><th scope=col>&lt;dbl&gt;</th><th scope=col>&lt;fct&gt;</th></tr>\n",
       "</thead>\n",
       "<tbody>\n",
       "\t<tr><th scope=row>1</th><td>10</td><td>A</td></tr>\n",
       "\t<tr><th scope=row>2</th><td> 7</td><td>A</td></tr>\n",
       "\t<tr><th scope=row>3</th><td>20</td><td>A</td></tr>\n",
       "\t<tr><th scope=row>4</th><td>14</td><td>A</td></tr>\n",
       "\t<tr><th scope=row>5</th><td>14</td><td>A</td></tr>\n",
       "\t<tr><th scope=row>6</th><td>12</td><td>A</td></tr>\n",
       "</tbody>\n",
       "</table>\n"
      ],
      "text/latex": [
       "A data.frame: 6 × 2\n",
       "\\begin{tabular}{r|ll}\n",
       "  & count & spray\\\\\n",
       "  & <dbl> & <fct>\\\\\n",
       "\\hline\n",
       "\t1 & 10 & A\\\\\n",
       "\t2 &  7 & A\\\\\n",
       "\t3 & 20 & A\\\\\n",
       "\t4 & 14 & A\\\\\n",
       "\t5 & 14 & A\\\\\n",
       "\t6 & 12 & A\\\\\n",
       "\\end{tabular}\n"
      ],
      "text/markdown": [
       "\n",
       "A data.frame: 6 × 2\n",
       "\n",
       "| <!--/--> | count &lt;dbl&gt; | spray &lt;fct&gt; |\n",
       "|---|---|---|\n",
       "| 1 | 10 | A |\n",
       "| 2 |  7 | A |\n",
       "| 3 | 20 | A |\n",
       "| 4 | 14 | A |\n",
       "| 5 | 14 | A |\n",
       "| 6 | 12 | A |\n",
       "\n"
      ],
      "text/plain": [
       "  count spray\n",
       "1 10    A    \n",
       "2  7    A    \n",
       "3 20    A    \n",
       "4 14    A    \n",
       "5 14    A    \n",
       "6 12    A    "
      ]
     },
     "metadata": {},
     "output_type": "display_data"
    }
   ],
   "source": [
    "head(InsectSprays)"
   ]
  },
  {
   "cell_type": "code",
   "execution_count": 5,
   "id": "07ecf1c8-026e-4228-9f08-6a9432fe31b0",
   "metadata": {},
   "outputs": [],
   "source": [
    "# Get vector\n",
    "countVector <- InsectSprays$count"
   ]
  },
  {
   "cell_type": "code",
   "execution_count": 6,
   "id": "ba18599e-ea11-42ea-a19d-cf0e149b9878",
   "metadata": {},
   "outputs": [],
   "source": [
    "# Split vector\n",
    "fewBugs <- countVector[countVector <= 5]"
   ]
  },
  {
   "cell_type": "code",
   "execution_count": 5,
   "id": "714a1d24-8bd6-4ff3-a088-a24ddaeb8f6c",
   "metadata": {},
   "outputs": [],
   "source": [
    "# Split vector\n",
    "moreBugs <- countVector[countVector > 6]"
   ]
  },
  {
   "cell_type": "code",
   "execution_count": 6,
   "id": "d22ba9f6-e7e3-4689-bcbf-b08d803af488",
   "metadata": {},
   "outputs": [
    {
     "data": {
      "text/html": [
       "31"
      ],
      "text/latex": [
       "31"
      ],
      "text/markdown": [
       "31"
      ],
      "text/plain": [
       "[1] 31"
      ]
     },
     "metadata": {},
     "output_type": "display_data"
    }
   ],
   "source": [
    "#How many elements are in the fewBugs vector? \n",
    "length(fewBugs)"
   ]
  },
  {
   "cell_type": "code",
   "execution_count": 7,
   "id": "da4dc3d6-1c47-43ee-b87a-4716d04cd9c0",
   "metadata": {},
   "outputs": [
    {
     "data": {
      "text/html": [
       "38"
      ],
      "text/latex": [
       "38"
      ],
      "text/markdown": [
       "38"
      ],
      "text/plain": [
       "[1] 38"
      ]
     },
     "metadata": {},
     "output_type": "display_data"
    }
   ],
   "source": [
    "#How many elements are in the moreBugs vector? \n",
    "length(moreBugs)"
   ]
  },
  {
   "cell_type": "code",
   "execution_count": 8,
   "id": "312c2b6f-29b4-480a-ab87-1f64969b201f",
   "metadata": {},
   "outputs": [
    {
     "data": {
      "text/html": [
       "2.87096774193548"
      ],
      "text/latex": [
       "2.87096774193548"
      ],
      "text/markdown": [
       "2.87096774193548"
      ],
      "text/plain": [
       "[1] 2.870968"
      ]
     },
     "metadata": {},
     "output_type": "display_data"
    }
   ],
   "source": [
    "#What is the mean number of bugs in the fewBugs vector? \n",
    "mean(fewBugs)"
   ]
  },
  {
   "cell_type": "code",
   "execution_count": 9,
   "id": "3cb6c997-44b3-4e82-95fa-c8120e422ba3",
   "metadata": {},
   "outputs": [
    {
     "data": {
      "text/html": [
       "15.1842105263158"
      ],
      "text/latex": [
       "15.1842105263158"
      ],
      "text/markdown": [
       "15.1842105263158"
      ],
      "text/plain": [
       "[1] 15.18421"
      ]
     },
     "metadata": {},
     "output_type": "display_data"
    }
   ],
   "source": [
    "#What is the mean number of bugs in the moreBugs vector? \n",
    "mean(moreBugs)"
   ]
  },
  {
   "cell_type": "code",
   "execution_count": 10,
   "id": "27bc317c-ebe1-40fb-b460-38e7c1b31145",
   "metadata": {},
   "outputs": [
    {
     "data": {
      "text/html": [
       "1.60710786785602"
      ],
      "text/latex": [
       "1.60710786785602"
      ],
      "text/markdown": [
       "1.60710786785602"
      ],
      "text/plain": [
       "[1] 1.607108"
      ]
     },
     "metadata": {},
     "output_type": "display_data"
    }
   ],
   "source": [
    "#What is the standard deviaon of fewBugs?\n",
    "sd(fewBugs)"
   ]
  },
  {
   "cell_type": "code",
   "execution_count": 11,
   "id": "46758b23-f1e1-4d4d-9e34-6c02c2fe7227",
   "metadata": {},
   "outputs": [
    {
     "data": {
      "text/html": [
       "5.14574220821445"
      ],
      "text/latex": [
       "5.14574220821445"
      ],
      "text/markdown": [
       "5.14574220821445"
      ],
      "text/plain": [
       "[1] 5.145742"
      ]
     },
     "metadata": {},
     "output_type": "display_data"
    }
   ],
   "source": [
    "#What is the standard deviaon of moreBugs? \n",
    "sd(moreBugs)"
   ]
  },
  {
   "cell_type": "code",
   "execution_count": 15,
   "id": "1c02c56c-8e02-4201-b46f-6f4c8028d4a5",
   "metadata": {},
   "outputs": [
    {
     "data": {
      "text/html": [
       "<style>\n",
       ".list-inline {list-style: none; margin:0; padding: 0}\n",
       ".list-inline>li {display: inline-block}\n",
       ".list-inline>li:not(:last-child)::after {content: \"\\00b7\"; padding: 0 .5ex}\n",
       "</style>\n",
       "<ol class=list-inline><li>0</li><li>1</li><li>2</li><li>3</li><li>1</li><li>2</li><li>1</li><li>3</li><li>0</li><li>1</li><li>4</li><li>3</li><li>5</li><li>4</li><li>3</li><li>5</li><li>5</li><li>5</li><li>5</li><li>2</li><li>4</li><li>3</li><li>5</li><li>3</li><li>5</li><li>3</li><li>1</li><li>1</li><li>3</li><li>2</li><li>4</li></ol>\n"
      ],
      "text/latex": [
       "\\begin{enumerate*}\n",
       "\\item 0\n",
       "\\item 1\n",
       "\\item 2\n",
       "\\item 3\n",
       "\\item 1\n",
       "\\item 2\n",
       "\\item 1\n",
       "\\item 3\n",
       "\\item 0\n",
       "\\item 1\n",
       "\\item 4\n",
       "\\item 3\n",
       "\\item 5\n",
       "\\item 4\n",
       "\\item 3\n",
       "\\item 5\n",
       "\\item 5\n",
       "\\item 5\n",
       "\\item 5\n",
       "\\item 2\n",
       "\\item 4\n",
       "\\item 3\n",
       "\\item 5\n",
       "\\item 3\n",
       "\\item 5\n",
       "\\item 3\n",
       "\\item 1\n",
       "\\item 1\n",
       "\\item 3\n",
       "\\item 2\n",
       "\\item 4\n",
       "\\end{enumerate*}\n"
      ],
      "text/markdown": [
       "1. 0\n",
       "2. 1\n",
       "3. 2\n",
       "4. 3\n",
       "5. 1\n",
       "6. 2\n",
       "7. 1\n",
       "8. 3\n",
       "9. 0\n",
       "10. 1\n",
       "11. 4\n",
       "12. 3\n",
       "13. 5\n",
       "14. 4\n",
       "15. 3\n",
       "16. 5\n",
       "17. 5\n",
       "18. 5\n",
       "19. 5\n",
       "20. 2\n",
       "21. 4\n",
       "22. 3\n",
       "23. 5\n",
       "24. 3\n",
       "25. 5\n",
       "26. 3\n",
       "27. 1\n",
       "28. 1\n",
       "29. 3\n",
       "30. 2\n",
       "31. 4\n",
       "\n",
       "\n"
      ],
      "text/plain": [
       " [1] 0 1 2 3 1 2 1 3 0 1 4 3 5 4 3 5 5 5 5 2 4 3 5 3 5 3 1 1 3 2 4"
      ]
     },
     "metadata": {},
     "output_type": "display_data"
    }
   ],
   "source": [
    "# See vector\n",
    "fewBugs"
   ]
  },
  {
   "cell_type": "code",
   "execution_count": 29,
   "id": "5be2bc8c-bfb2-49e6-9e52-c821c3b0b902",
   "metadata": {},
   "outputs": [
    {
     "data": {
      "text/html": [
       "0"
      ],
      "text/latex": [
       "0"
      ],
      "text/markdown": [
       "0"
      ],
      "text/plain": [
       "[1] 0"
      ]
     },
     "metadata": {},
     "output_type": "display_data"
    }
   ],
   "source": [
    "# Select one element\n",
    "fewBugs[1]"
   ]
  },
  {
   "cell_type": "code",
   "execution_count": 30,
   "id": "7792b7d4-bae5-4681-8dec-2b7f291315cc",
   "metadata": {},
   "outputs": [
    {
     "data": {
      "text/html": [
       "<style>\n",
       ".list-inline {list-style: none; margin:0; padding: 0}\n",
       ".list-inline>li {display: inline-block}\n",
       ".list-inline>li:not(:last-child)::after {content: \"\\00b7\"; padding: 0 .5ex}\n",
       "</style>\n",
       "<ol class=list-inline><li>1</li><li>2</li><li>1</li><li>3</li><li>0</li><li>1</li></ol>\n"
      ],
      "text/latex": [
       "\\begin{enumerate*}\n",
       "\\item 1\n",
       "\\item 2\n",
       "\\item 1\n",
       "\\item 3\n",
       "\\item 0\n",
       "\\item 1\n",
       "\\end{enumerate*}\n"
      ],
      "text/markdown": [
       "1. 1\n",
       "2. 2\n",
       "3. 1\n",
       "4. 3\n",
       "5. 0\n",
       "6. 1\n",
       "\n",
       "\n"
      ],
      "text/plain": [
       "[1] 1 2 1 3 0 1"
      ]
     },
     "metadata": {},
     "output_type": "display_data"
    }
   ],
   "source": [
    "# Slice vector\n",
    "fewBugs[c(5:10)]"
   ]
  },
  {
   "cell_type": "code",
   "execution_count": 31,
   "id": "49b26cd7-65ea-46c5-8705-afb3acc2f8fa",
   "metadata": {},
   "outputs": [
    {
     "data": {
      "text/html": [
       "<style>\n",
       ".list-inline {list-style: none; margin:0; padding: 0}\n",
       ".list-inline>li {display: inline-block}\n",
       ".list-inline>li:not(:last-child)::after {content: \"\\00b7\"; padding: 0 .5ex}\n",
       "</style>\n",
       "<ol class=list-inline><li>10</li><li>7</li><li>20</li><li>14</li><li>14</li><li>12</li><li>10</li><li>23</li><li>17</li><li>20</li><li>14</li><li>13</li><li>11</li><li>17</li><li>21</li><li>11</li><li>16</li><li>14</li><li>17</li><li>17</li><li>19</li><li>21</li><li>7</li><li>13</li><li>7</li><li>12</li><li>11</li><li>9</li><li>15</li><li>22</li><li>15</li><li>16</li><li>13</li><li>10</li><li>26</li><li>26</li><li>24</li><li>13</li></ol>\n"
      ],
      "text/latex": [
       "\\begin{enumerate*}\n",
       "\\item 10\n",
       "\\item 7\n",
       "\\item 20\n",
       "\\item 14\n",
       "\\item 14\n",
       "\\item 12\n",
       "\\item 10\n",
       "\\item 23\n",
       "\\item 17\n",
       "\\item 20\n",
       "\\item 14\n",
       "\\item 13\n",
       "\\item 11\n",
       "\\item 17\n",
       "\\item 21\n",
       "\\item 11\n",
       "\\item 16\n",
       "\\item 14\n",
       "\\item 17\n",
       "\\item 17\n",
       "\\item 19\n",
       "\\item 21\n",
       "\\item 7\n",
       "\\item 13\n",
       "\\item 7\n",
       "\\item 12\n",
       "\\item 11\n",
       "\\item 9\n",
       "\\item 15\n",
       "\\item 22\n",
       "\\item 15\n",
       "\\item 16\n",
       "\\item 13\n",
       "\\item 10\n",
       "\\item 26\n",
       "\\item 26\n",
       "\\item 24\n",
       "\\item 13\n",
       "\\end{enumerate*}\n"
      ],
      "text/markdown": [
       "1. 10\n",
       "2. 7\n",
       "3. 20\n",
       "4. 14\n",
       "5. 14\n",
       "6. 12\n",
       "7. 10\n",
       "8. 23\n",
       "9. 17\n",
       "10. 20\n",
       "11. 14\n",
       "12. 13\n",
       "13. 11\n",
       "14. 17\n",
       "15. 21\n",
       "16. 11\n",
       "17. 16\n",
       "18. 14\n",
       "19. 17\n",
       "20. 17\n",
       "21. 19\n",
       "22. 21\n",
       "23. 7\n",
       "24. 13\n",
       "25. 7\n",
       "26. 12\n",
       "27. 11\n",
       "28. 9\n",
       "29. 15\n",
       "30. 22\n",
       "31. 15\n",
       "32. 16\n",
       "33. 13\n",
       "34. 10\n",
       "35. 26\n",
       "36. 26\n",
       "37. 24\n",
       "38. 13\n",
       "\n",
       "\n"
      ],
      "text/plain": [
       " [1] 10  7 20 14 14 12 10 23 17 20 14 13 11 17 21 11 16 14 17 17 19 21  7 13  7\n",
       "[26] 12 11  9 15 22 15 16 13 10 26 26 24 13"
      ]
     },
     "metadata": {},
     "output_type": "display_data"
    }
   ],
   "source": [
    "# View vector\n",
    "moreBugs"
   ]
  },
  {
   "cell_type": "code",
   "execution_count": 19,
   "id": "69448519-cc35-4125-9bf1-64244f8fea36",
   "metadata": {},
   "outputs": [
    {
     "data": {
      "text/html": [
       "20"
      ],
      "text/latex": [
       "20"
      ],
      "text/markdown": [
       "20"
      ],
      "text/plain": [
       "[1] 20"
      ]
     },
     "metadata": {},
     "output_type": "display_data"
    }
   ],
   "source": [
    "# Select one element based on index\n",
    "moreBugs[10]"
   ]
  },
  {
   "cell_type": "code",
   "execution_count": 22,
   "id": "de54b7e8-2817-41c1-99b3-cbe4c6ef300c",
   "metadata": {},
   "outputs": [],
   "source": [
    "# Create new variable based on element\n",
    "aBug = moreBugs[1]"
   ]
  },
  {
   "cell_type": "code",
   "execution_count": 32,
   "id": "90278fc3-570a-49cc-bb26-6c8b0ce8fa16",
   "metadata": {},
   "outputs": [
    {
     "data": {
      "text/html": [
       "10"
      ],
      "text/latex": [
       "10"
      ],
      "text/markdown": [
       "10"
      ],
      "text/plain": [
       "[1] 10"
      ]
     },
     "metadata": {},
     "output_type": "display_data"
    }
   ],
   "source": [
    "# View new variable\n",
    "aBug"
   ]
  },
  {
   "cell_type": "code",
   "execution_count": 26,
   "id": "ccf2e120-8ec7-4b1d-bb25-9b4d04acaf65",
   "metadata": {},
   "outputs": [],
   "source": [
    "# Concat two vectors\n",
    "allBugs = c(fewBugs, moreBugs)"
   ]
  },
  {
   "cell_type": "code",
   "execution_count": 27,
   "id": "9ebb1b7f-cbe9-4c2f-ab91-5d2b54135198",
   "metadata": {},
   "outputs": [
    {
     "data": {
      "text/html": [
       "<style>\n",
       ".list-inline {list-style: none; margin:0; padding: 0}\n",
       ".list-inline>li {display: inline-block}\n",
       ".list-inline>li:not(:last-child)::after {content: \"\\00b7\"; padding: 0 .5ex}\n",
       "</style>\n",
       "<ol class=list-inline><li>0</li><li>1</li><li>2</li><li>3</li><li>1</li><li>2</li><li>1</li><li>3</li><li>0</li><li>1</li><li>4</li><li>3</li><li>5</li><li>4</li><li>3</li><li>5</li><li>5</li><li>5</li><li>5</li><li>2</li><li>4</li><li>3</li><li>5</li><li>3</li><li>5</li><li>3</li><li>1</li><li>1</li><li>3</li><li>2</li><li>4</li><li>10</li><li>7</li><li>20</li><li>14</li><li>14</li><li>12</li><li>10</li><li>23</li><li>17</li><li>20</li><li>14</li><li>13</li><li>11</li><li>17</li><li>21</li><li>11</li><li>16</li><li>14</li><li>17</li><li>17</li><li>19</li><li>21</li><li>7</li><li>13</li><li>7</li><li>12</li><li>11</li><li>9</li><li>15</li><li>22</li><li>15</li><li>16</li><li>13</li><li>10</li><li>26</li><li>26</li><li>24</li><li>13</li></ol>\n"
      ],
      "text/latex": [
       "\\begin{enumerate*}\n",
       "\\item 0\n",
       "\\item 1\n",
       "\\item 2\n",
       "\\item 3\n",
       "\\item 1\n",
       "\\item 2\n",
       "\\item 1\n",
       "\\item 3\n",
       "\\item 0\n",
       "\\item 1\n",
       "\\item 4\n",
       "\\item 3\n",
       "\\item 5\n",
       "\\item 4\n",
       "\\item 3\n",
       "\\item 5\n",
       "\\item 5\n",
       "\\item 5\n",
       "\\item 5\n",
       "\\item 2\n",
       "\\item 4\n",
       "\\item 3\n",
       "\\item 5\n",
       "\\item 3\n",
       "\\item 5\n",
       "\\item 3\n",
       "\\item 1\n",
       "\\item 1\n",
       "\\item 3\n",
       "\\item 2\n",
       "\\item 4\n",
       "\\item 10\n",
       "\\item 7\n",
       "\\item 20\n",
       "\\item 14\n",
       "\\item 14\n",
       "\\item 12\n",
       "\\item 10\n",
       "\\item 23\n",
       "\\item 17\n",
       "\\item 20\n",
       "\\item 14\n",
       "\\item 13\n",
       "\\item 11\n",
       "\\item 17\n",
       "\\item 21\n",
       "\\item 11\n",
       "\\item 16\n",
       "\\item 14\n",
       "\\item 17\n",
       "\\item 17\n",
       "\\item 19\n",
       "\\item 21\n",
       "\\item 7\n",
       "\\item 13\n",
       "\\item 7\n",
       "\\item 12\n",
       "\\item 11\n",
       "\\item 9\n",
       "\\item 15\n",
       "\\item 22\n",
       "\\item 15\n",
       "\\item 16\n",
       "\\item 13\n",
       "\\item 10\n",
       "\\item 26\n",
       "\\item 26\n",
       "\\item 24\n",
       "\\item 13\n",
       "\\end{enumerate*}\n"
      ],
      "text/markdown": [
       "1. 0\n",
       "2. 1\n",
       "3. 2\n",
       "4. 3\n",
       "5. 1\n",
       "6. 2\n",
       "7. 1\n",
       "8. 3\n",
       "9. 0\n",
       "10. 1\n",
       "11. 4\n",
       "12. 3\n",
       "13. 5\n",
       "14. 4\n",
       "15. 3\n",
       "16. 5\n",
       "17. 5\n",
       "18. 5\n",
       "19. 5\n",
       "20. 2\n",
       "21. 4\n",
       "22. 3\n",
       "23. 5\n",
       "24. 3\n",
       "25. 5\n",
       "26. 3\n",
       "27. 1\n",
       "28. 1\n",
       "29. 3\n",
       "30. 2\n",
       "31. 4\n",
       "32. 10\n",
       "33. 7\n",
       "34. 20\n",
       "35. 14\n",
       "36. 14\n",
       "37. 12\n",
       "38. 10\n",
       "39. 23\n",
       "40. 17\n",
       "41. 20\n",
       "42. 14\n",
       "43. 13\n",
       "44. 11\n",
       "45. 17\n",
       "46. 21\n",
       "47. 11\n",
       "48. 16\n",
       "49. 14\n",
       "50. 17\n",
       "51. 17\n",
       "52. 19\n",
       "53. 21\n",
       "54. 7\n",
       "55. 13\n",
       "56. 7\n",
       "57. 12\n",
       "58. 11\n",
       "59. 9\n",
       "60. 15\n",
       "61. 22\n",
       "62. 15\n",
       "63. 16\n",
       "64. 13\n",
       "65. 10\n",
       "66. 26\n",
       "67. 26\n",
       "68. 24\n",
       "69. 13\n",
       "\n",
       "\n"
      ],
      "text/plain": [
       " [1]  0  1  2  3  1  2  1  3  0  1  4  3  5  4  3  5  5  5  5  2  4  3  5  3  5\n",
       "[26]  3  1  1  3  2  4 10  7 20 14 14 12 10 23 17 20 14 13 11 17 21 11 16 14 17\n",
       "[51] 17 19 21  7 13  7 12 11  9 15 22 15 16 13 10 26 26 24 13"
      ]
     },
     "metadata": {},
     "output_type": "display_data"
    }
   ],
   "source": [
    "# View concatenated vector\n",
    "allBugs"
   ]
  },
  {
   "cell_type": "code",
   "execution_count": 33,
   "id": "b01846a6-2b5d-4dc0-9fd3-4e6388d40ce9",
   "metadata": {},
   "outputs": [
    {
     "data": {
      "text/html": [
       "69"
      ],
      "text/latex": [
       "69"
      ],
      "text/markdown": [
       "69"
      ],
      "text/plain": [
       "[1] 69"
      ]
     },
     "metadata": {},
     "output_type": "display_data"
    }
   ],
   "source": [
    "# Check length on new vector\n",
    "length(allBugs)"
   ]
  },
  {
   "cell_type": "code",
   "execution_count": null,
   "id": "109d3c4b-8bd1-454c-b8ac-2ac966263894",
   "metadata": {},
   "outputs": [],
   "source": []
  }
 ],
 "metadata": {
  "kernelspec": {
   "display_name": "R",
   "language": "R",
   "name": "ir"
  },
  "language_info": {
   "codemirror_mode": "r",
   "file_extension": ".r",
   "mimetype": "text/x-r-source",
   "name": "R",
   "pygments_lexer": "r",
   "version": "4.2.1"
  }
 },
 "nbformat": 4,
 "nbformat_minor": 5
}
