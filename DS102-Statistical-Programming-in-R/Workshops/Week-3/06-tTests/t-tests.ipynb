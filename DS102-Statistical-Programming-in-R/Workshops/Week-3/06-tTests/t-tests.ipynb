{
 "cells": [
  {
   "cell_type": "code",
   "execution_count": 1,
   "id": "189400b0-0420-4429-94ca-6a602a3bd140",
   "metadata": {},
   "outputs": [],
   "source": [
    "# Single Sample Ques\u0000on: Does the distance from home differ from a mean of 27 miles?\n",
    "singleSample <- t.test(EmployeeA\u0000ri\u0000on$DistanceFromHome, mu=27) print(singleSample)\n",
    "# Independent t-test Ques\u0000on: Does the distance from home differ between those who le\u0000 the company and those who didn't? (A\u0000ri\u0000on variable)\n",
    "Independent <- t.test(EmployeeA\u0000ri\u0000on$DistanceFromHome ~ EmployeeA\u0000ri\u0000on$A\u0000ri\u0000on) print(Independent)\n",
    "#Dependent t-test Ques\u0000on: Does your salary increase over \u0000me?\n",
    "Name <- c(\"Bob\", \"Bob\", \"Cyrus\", \"Cyrus\", \"Randy\", \"Randy\", \"James\", \"James\") Salary <- c(12000, 75000, 56000, 83000, 12000, 25000, 46000, 72000)\n",
    "Year <- c(\"2010\", \"2020\", \"2010\", \"2020\", \"2010\", \"2020\", \"2010\",\"2020\") Salaries <- data.frame(Name, Salary, Year)\n",
    "Dependent <- t.test(Salaries$Salary ~ Salaries$Year, paired=TRUE) print(Dependent)\n",
    "Dependent <- t.test(Salary ~ Year, paired=TRUE) print(Dependent)"
   ]
  },
  {
   "cell_type": "code",
   "execution_count": null,
   "id": "4af6b2a5-5e50-4346-aa07-dfe4f3b4f80e",
   "metadata": {},
   "outputs": [],
   "source": []
  }
 ],
 "metadata": {
  "kernelspec": {
   "display_name": "R",
   "language": "R",
   "name": "ir"
  },
  "language_info": {
   "codemirror_mode": "r",
   "file_extension": ".r",
   "mimetype": "text/x-r-source",
   "name": "R",
   "pygments_lexer": "r",
   "version": "4.2.1"
  }
 },
 "nbformat": 4,
 "nbformat_minor": 5
}
