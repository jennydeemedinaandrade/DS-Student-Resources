{
 "cells": [
  {
   "cell_type": "markdown",
   "id": "b64c4542-f630-4fce-b6e5-1188cb86908e",
   "metadata": {},
   "source": [
    "# Advanced Chi Square in R"
   ]
  },
  {
   "cell_type": "markdown",
   "id": "c9f976a4-2d0b-46d1-93f8-9110a90a4ce2",
   "metadata": {},
   "source": [
    "## Is there any difference in the type of cereal and the manufacturer? Independent chi-square"
   ]
  },
  {
   "cell_type": "code",
   "execution_count": 2,
   "id": "ac518e63-d433-464c-ae10-e4e227306ecb",
   "metadata": {},
   "outputs": [
    {
     "name": "stderr",
     "output_type": "stream",
     "text": [
      "also installing the dependencies ‘gtools’, ‘gdata’\n",
      "\n",
      "\n"
     ]
    },
    {
     "name": "stdout",
     "output_type": "stream",
     "text": [
      "\n",
      "The downloaded binary packages are in\n",
      "\t/var/folders/9q/yp0trhm570d82rk1lfh67tq00000gn/T//Rtmp9lpWXv/downloaded_packages\n",
      "\n",
      "The downloaded binary packages are in\n",
      "\t/var/folders/9q/yp0trhm570d82rk1lfh67tq00000gn/T//Rtmp9lpWXv/downloaded_packages\n"
     ]
    }
   ],
   "source": [
    "# Install required packages\n",
    "install.packages(\"gmodels\")\n",
    "install.packages(\"dplyr\")"
   ]
  },
  {
   "cell_type": "code",
   "execution_count": 3,
   "id": "ec915073-5a75-4e7b-9485-f05814136e42",
   "metadata": {},
   "outputs": [
    {
     "name": "stderr",
     "output_type": "stream",
     "text": [
      "\n",
      "Attaching package: ‘dplyr’\n",
      "\n",
      "\n",
      "The following objects are masked from ‘package:stats’:\n",
      "\n",
      "    filter, lag\n",
      "\n",
      "\n",
      "The following objects are masked from ‘package:base’:\n",
      "\n",
      "    intersect, setdiff, setequal, union\n",
      "\n",
      "\n"
     ]
    }
   ],
   "source": [
    "# load required packages\n",
    "library(\"gmodels\")\n",
    "library(\"dplyr\")"
   ]
  },
  {
   "cell_type": "code",
   "execution_count": 9,
   "id": "1f3fdc4e-2097-43a4-abd7-74ede46c8412",
   "metadata": {},
   "outputs": [],
   "source": [
    "# read in data\n",
    "cereal = read.csv(\"../../Data/datasets_2021_5514_cereal.csv\")"
   ]
  },
  {
   "cell_type": "code",
   "execution_count": 8,
   "id": "5328159c-3f78-4e98-94a0-96f4cad2feb9",
   "metadata": {},
   "outputs": [
    {
     "data": {
      "text/html": [
       "<table class=\"dataframe\">\n",
       "<caption>A data.frame: 6 × 16</caption>\n",
       "<thead>\n",
       "\t<tr><th></th><th scope=col>name</th><th scope=col>mfr</th><th scope=col>type</th><th scope=col>calories</th><th scope=col>protein</th><th scope=col>fat</th><th scope=col>sodium</th><th scope=col>fiber</th><th scope=col>carbo</th><th scope=col>sugars</th><th scope=col>potass</th><th scope=col>vitamins</th><th scope=col>shelf</th><th scope=col>weight</th><th scope=col>cups</th><th scope=col>rating</th></tr>\n",
       "\t<tr><th></th><th scope=col>&lt;chr&gt;</th><th scope=col>&lt;chr&gt;</th><th scope=col>&lt;chr&gt;</th><th scope=col>&lt;int&gt;</th><th scope=col>&lt;int&gt;</th><th scope=col>&lt;int&gt;</th><th scope=col>&lt;int&gt;</th><th scope=col>&lt;dbl&gt;</th><th scope=col>&lt;dbl&gt;</th><th scope=col>&lt;int&gt;</th><th scope=col>&lt;int&gt;</th><th scope=col>&lt;int&gt;</th><th scope=col>&lt;int&gt;</th><th scope=col>&lt;dbl&gt;</th><th scope=col>&lt;dbl&gt;</th><th scope=col>&lt;dbl&gt;</th></tr>\n",
       "</thead>\n",
       "<tbody>\n",
       "\t<tr><th scope=row>1</th><td>100% Bran                </td><td>N</td><td>C</td><td> 70</td><td>4</td><td>1</td><td>130</td><td>10.0</td><td> 5.0</td><td> 6</td><td>280</td><td>25</td><td>3</td><td>1</td><td>0.33</td><td>68.40297</td></tr>\n",
       "\t<tr><th scope=row>2</th><td>100% Natural Bran        </td><td>Q</td><td>C</td><td>120</td><td>3</td><td>5</td><td> 15</td><td> 2.0</td><td> 8.0</td><td> 8</td><td>135</td><td> 0</td><td>3</td><td>1</td><td>1.00</td><td>33.98368</td></tr>\n",
       "\t<tr><th scope=row>3</th><td>All-Bran                 </td><td>K</td><td>C</td><td> 70</td><td>4</td><td>1</td><td>260</td><td> 9.0</td><td> 7.0</td><td> 5</td><td>320</td><td>25</td><td>3</td><td>1</td><td>0.33</td><td>59.42551</td></tr>\n",
       "\t<tr><th scope=row>4</th><td>All-Bran with Extra Fiber</td><td>K</td><td>C</td><td> 50</td><td>4</td><td>0</td><td>140</td><td>14.0</td><td> 8.0</td><td> 0</td><td>330</td><td>25</td><td>3</td><td>1</td><td>0.50</td><td>93.70491</td></tr>\n",
       "\t<tr><th scope=row>5</th><td>Almond Delight           </td><td>R</td><td>C</td><td>110</td><td>2</td><td>2</td><td>200</td><td> 1.0</td><td>14.0</td><td> 8</td><td> -1</td><td>25</td><td>3</td><td>1</td><td>0.75</td><td>34.38484</td></tr>\n",
       "\t<tr><th scope=row>6</th><td>Apple Cinnamon Cheerios  </td><td>G</td><td>C</td><td>110</td><td>2</td><td>2</td><td>180</td><td> 1.5</td><td>10.5</td><td>10</td><td> 70</td><td>25</td><td>1</td><td>1</td><td>0.75</td><td>29.50954</td></tr>\n",
       "</tbody>\n",
       "</table>\n"
      ],
      "text/latex": [
       "A data.frame: 6 × 16\n",
       "\\begin{tabular}{r|llllllllllllllll}\n",
       "  & name & mfr & type & calories & protein & fat & sodium & fiber & carbo & sugars & potass & vitamins & shelf & weight & cups & rating\\\\\n",
       "  & <chr> & <chr> & <chr> & <int> & <int> & <int> & <int> & <dbl> & <dbl> & <int> & <int> & <int> & <int> & <dbl> & <dbl> & <dbl>\\\\\n",
       "\\hline\n",
       "\t1 & 100\\% Bran                 & N & C &  70 & 4 & 1 & 130 & 10.0 &  5.0 &  6 & 280 & 25 & 3 & 1 & 0.33 & 68.40297\\\\\n",
       "\t2 & 100\\% Natural Bran         & Q & C & 120 & 3 & 5 &  15 &  2.0 &  8.0 &  8 & 135 &  0 & 3 & 1 & 1.00 & 33.98368\\\\\n",
       "\t3 & All-Bran                  & K & C &  70 & 4 & 1 & 260 &  9.0 &  7.0 &  5 & 320 & 25 & 3 & 1 & 0.33 & 59.42551\\\\\n",
       "\t4 & All-Bran with Extra Fiber & K & C &  50 & 4 & 0 & 140 & 14.0 &  8.0 &  0 & 330 & 25 & 3 & 1 & 0.50 & 93.70491\\\\\n",
       "\t5 & Almond Delight            & R & C & 110 & 2 & 2 & 200 &  1.0 & 14.0 &  8 &  -1 & 25 & 3 & 1 & 0.75 & 34.38484\\\\\n",
       "\t6 & Apple Cinnamon Cheerios   & G & C & 110 & 2 & 2 & 180 &  1.5 & 10.5 & 10 &  70 & 25 & 1 & 1 & 0.75 & 29.50954\\\\\n",
       "\\end{tabular}\n"
      ],
      "text/markdown": [
       "\n",
       "A data.frame: 6 × 16\n",
       "\n",
       "| <!--/--> | name &lt;chr&gt; | mfr &lt;chr&gt; | type &lt;chr&gt; | calories &lt;int&gt; | protein &lt;int&gt; | fat &lt;int&gt; | sodium &lt;int&gt; | fiber &lt;dbl&gt; | carbo &lt;dbl&gt; | sugars &lt;int&gt; | potass &lt;int&gt; | vitamins &lt;int&gt; | shelf &lt;int&gt; | weight &lt;dbl&gt; | cups &lt;dbl&gt; | rating &lt;dbl&gt; |\n",
       "|---|---|---|---|---|---|---|---|---|---|---|---|---|---|---|---|---|\n",
       "| 1 | 100% Bran                 | N | C |  70 | 4 | 1 | 130 | 10.0 |  5.0 |  6 | 280 | 25 | 3 | 1 | 0.33 | 68.40297 |\n",
       "| 2 | 100% Natural Bran         | Q | C | 120 | 3 | 5 |  15 |  2.0 |  8.0 |  8 | 135 |  0 | 3 | 1 | 1.00 | 33.98368 |\n",
       "| 3 | All-Bran                  | K | C |  70 | 4 | 1 | 260 |  9.0 |  7.0 |  5 | 320 | 25 | 3 | 1 | 0.33 | 59.42551 |\n",
       "| 4 | All-Bran with Extra Fiber | K | C |  50 | 4 | 0 | 140 | 14.0 |  8.0 |  0 | 330 | 25 | 3 | 1 | 0.50 | 93.70491 |\n",
       "| 5 | Almond Delight            | R | C | 110 | 2 | 2 | 200 |  1.0 | 14.0 |  8 |  -1 | 25 | 3 | 1 | 0.75 | 34.38484 |\n",
       "| 6 | Apple Cinnamon Cheerios   | G | C | 110 | 2 | 2 | 180 |  1.5 | 10.5 | 10 |  70 | 25 | 1 | 1 | 0.75 | 29.50954 |\n",
       "\n"
      ],
      "text/plain": [
       "  name                      mfr type calories protein fat sodium fiber carbo\n",
       "1 100% Bran                 N   C     70      4       1   130    10.0   5.0 \n",
       "2 100% Natural Bran         Q   C    120      3       5    15     2.0   8.0 \n",
       "3 All-Bran                  K   C     70      4       1   260     9.0   7.0 \n",
       "4 All-Bran with Extra Fiber K   C     50      4       0   140    14.0   8.0 \n",
       "5 Almond Delight            R   C    110      2       2   200     1.0  14.0 \n",
       "6 Apple Cinnamon Cheerios   G   C    110      2       2   180     1.5  10.5 \n",
       "  sugars potass vitamins shelf weight cups rating  \n",
       "1  6     280    25       3     1      0.33 68.40297\n",
       "2  8     135     0       3     1      1.00 33.98368\n",
       "3  5     320    25       3     1      0.33 59.42551\n",
       "4  0     330    25       3     1      0.50 93.70491\n",
       "5  8      -1    25       3     1      0.75 34.38484\n",
       "6 10      70    25       1     1      0.75 29.50954"
      ]
     },
     "metadata": {},
     "output_type": "display_data"
    }
   ],
   "source": [
    "# View data\n",
    "head(cereal)"
   ]
  },
  {
   "cell_type": "code",
   "execution_count": 10,
   "id": "db5fd9e2-53ce-48be-a6fa-e64b179ddd4b",
   "metadata": {},
   "outputs": [
    {
     "name": "stderr",
     "output_type": "stream",
     "text": [
      "Warning message in chisq.test(t, correct = FALSE, ...):\n",
      "“Chi-squared approximation may be incorrect”\n"
     ]
    },
    {
     "name": "stdout",
     "output_type": "stream",
     "text": [
      "\n",
      "   Cell Contents\n",
      "|-------------------------|\n",
      "|                   Count |\n",
      "|         Expected Values |\n",
      "| Chi-square contribution |\n",
      "|             Row Percent |\n",
      "|          Column Percent |\n",
      "|           Total Percent |\n",
      "|            Std Residual |\n",
      "|-------------------------|\n",
      "\n",
      "Total Observations in Table:  77 \n",
      "\n",
      "             | cereal$type \n",
      "  cereal$mfr |        C  |        H  | Row Total | \n",
      "-------------|-----------|-----------|-----------|\n",
      "           A |        0  |        1  |        1  | \n",
      "             |    0.961  |    0.039  |           | \n",
      "             |    0.961  |   23.706  |           | \n",
      "             |    0.000% |  100.000% |    1.299% | \n",
      "             |    0.000% |   33.333% |           | \n",
      "             |    0.000% |    1.299% |           | \n",
      "             |   -0.980  |    4.869  |           | \n",
      "-------------|-----------|-----------|-----------|\n",
      "           G |       22  |        0  |       22  | \n",
      "             |   21.143  |    0.857  |           | \n",
      "             |    0.035  |    0.857  |           | \n",
      "             |  100.000% |    0.000% |   28.571% | \n",
      "             |   29.730% |    0.000% |           | \n",
      "             |   28.571% |    0.000% |           | \n",
      "             |    0.186  |   -0.926  |           | \n",
      "-------------|-----------|-----------|-----------|\n",
      "           K |       23  |        0  |       23  | \n",
      "             |   22.104  |    0.896  |           | \n",
      "             |    0.036  |    0.896  |           | \n",
      "             |  100.000% |    0.000% |   29.870% | \n",
      "             |   31.081% |    0.000% |           | \n",
      "             |   29.870% |    0.000% |           | \n",
      "             |    0.191  |   -0.947  |           | \n",
      "-------------|-----------|-----------|-----------|\n",
      "           N |        5  |        1  |        6  | \n",
      "             |    5.766  |    0.234  |           | \n",
      "             |    0.102  |    2.512  |           | \n",
      "             |   83.333% |   16.667% |    7.792% | \n",
      "             |    6.757% |   33.333% |           | \n",
      "             |    6.494% |    1.299% |           | \n",
      "             |   -0.319  |    1.585  |           | \n",
      "-------------|-----------|-----------|-----------|\n",
      "           P |        9  |        0  |        9  | \n",
      "             |    8.649  |    0.351  |           | \n",
      "             |    0.014  |    0.351  |           | \n",
      "             |  100.000% |    0.000% |   11.688% | \n",
      "             |   12.162% |    0.000% |           | \n",
      "             |   11.688% |    0.000% |           | \n",
      "             |    0.119  |   -0.592  |           | \n",
      "-------------|-----------|-----------|-----------|\n",
      "           Q |        7  |        1  |        8  | \n",
      "             |    7.688  |    0.312  |           | \n",
      "             |    0.062  |    1.520  |           | \n",
      "             |   87.500% |   12.500% |   10.390% | \n",
      "             |    9.459% |   33.333% |           | \n",
      "             |    9.091% |    1.299% |           | \n",
      "             |   -0.248  |    1.233  |           | \n",
      "-------------|-----------|-----------|-----------|\n",
      "           R |        8  |        0  |        8  | \n",
      "             |    7.688  |    0.312  |           | \n",
      "             |    0.013  |    0.312  |           | \n",
      "             |  100.000% |    0.000% |   10.390% | \n",
      "             |   10.811% |    0.000% |           | \n",
      "             |   10.390% |    0.000% |           | \n",
      "             |    0.112  |   -0.558  |           | \n",
      "-------------|-----------|-----------|-----------|\n",
      "Column Total |       74  |        3  |       77  | \n",
      "             |   96.104% |    3.896% |           | \n",
      "-------------|-----------|-----------|-----------|\n",
      "\n",
      " \n",
      "Statistics for All Table Factors\n",
      "\n",
      "\n",
      "Pearson's Chi-squared test \n",
      "------------------------------------------------------------\n",
      "Chi^2 =  31.37519     d.f. =  6     p =  2.14921e-05 \n",
      "\n",
      "\n",
      " \n",
      "Fisher's Exact Test for Count Data\n",
      "------------------------------------------------------------\n",
      "Alternative hypothesis: two.sided\n",
      "p =  0.00304853 \n",
      "\n",
      " \n",
      "       Minimum expected frequency: 0.03896104 \n",
      "Cells with Expected Frequency < 5: 8 of 14 (57.14286%)\n",
      "\n"
     ]
    }
   ],
   "source": [
    "# Create cross table\n",
    "CrossTable(cereal$mfr, cereal$type, fisher=TRUE, chisq=TRUE, expected=TRUE, sresid = TRUE, format=\"SPSS\")"
   ]
  },
  {
   "cell_type": "markdown",
   "id": "89ce4e98-46e7-4a05-b07b-a1347eacd3d8",
   "metadata": {},
   "source": [
    "## A is much more likely to produce a hot cereal than any other manufacturer."
   ]
  },
  {
   "cell_type": "markdown",
   "id": "0d736c31-3432-4b80-a809-be64a2a0fb19",
   "metadata": {},
   "source": [
    "# From my experience, there are not many makers of hot cereal (oatmeal) or many different types, so I expect that there is a 70/30 ratio of cold to hot cereal. Let's test that with an independent chi-square"
   ]
  },
  {
   "cell_type": "code",
   "execution_count": 12,
   "id": "31af7a71-4538-48bd-8878-6009af02bb94",
   "metadata": {},
   "outputs": [
    {
     "data": {
      "text/html": [
       "<table class=\"dataframe\">\n",
       "<caption>A tibble: 2 × 2</caption>\n",
       "<thead>\n",
       "\t<tr><th scope=col>type</th><th scope=col>count</th></tr>\n",
       "\t<tr><th scope=col>&lt;chr&gt;</th><th scope=col>&lt;int&gt;</th></tr>\n",
       "</thead>\n",
       "<tbody>\n",
       "\t<tr><td>C</td><td>74</td></tr>\n",
       "\t<tr><td>H</td><td> 3</td></tr>\n",
       "</tbody>\n",
       "</table>\n"
      ],
      "text/latex": [
       "A tibble: 2 × 2\n",
       "\\begin{tabular}{ll}\n",
       " type & count\\\\\n",
       " <chr> & <int>\\\\\n",
       "\\hline\n",
       "\t C & 74\\\\\n",
       "\t H &  3\\\\\n",
       "\\end{tabular}\n"
      ],
      "text/markdown": [
       "\n",
       "A tibble: 2 × 2\n",
       "\n",
       "| type &lt;chr&gt; | count &lt;int&gt; |\n",
       "|---|---|\n",
       "| C | 74 |\n",
       "| H |  3 |\n",
       "\n"
      ],
      "text/plain": [
       "  type count\n",
       "1 C    74   \n",
       "2 H     3   "
      ]
     },
     "metadata": {},
     "output_type": "display_data"
    }
   ],
   "source": [
    "## Data Wrangling\n",
    "cereal %>% group_by(type) %>% summarise(count=n())"
   ]
  },
  {
   "cell_type": "code",
   "execution_count": 13,
   "id": "65e0e118-2bd9-46c0-a146-7487d9a9984b",
   "metadata": {},
   "outputs": [
    {
     "data": {
      "text/plain": [
       "\n",
       "\tChi-squared test for given probabilities\n",
       "\n",
       "data:  observed\n",
       "X-squared = 24.985, df = 1, p-value = 5.777e-07\n"
      ]
     },
     "metadata": {},
     "output_type": "display_data"
    }
   ],
   "source": [
    "## Run the analysis\n",
    "observed = c(74, 3)\n",
    "expected = c(0.7, 0.3)\n",
    "chisq.test(x=observed, p = expected)"
   ]
  },
  {
   "cell_type": "markdown",
   "id": "05312b78-a1d6-4e38-9115-475e038a04bb",
   "metadata": {},
   "source": [
    "## Looks like they are significantly different from that"
   ]
  },
  {
   "cell_type": "markdown",
   "id": "f6c90b77-5d88-4306-9d95-2f6b8037241f",
   "metadata": {},
   "source": [
    "# McNemar Chi-Square - look at whether the number of homes that have upholstery changed over me from 1700 to 1770"
   ]
  },
  {
   "cell_type": "code",
   "execution_count": 15,
   "id": "2b0b2e67-3829-4608-9742-ee98030b9c7d",
   "metadata": {},
   "outputs": [],
   "source": [
    "# Read in data\n",
    "upholstery = read.csv(\"../../Data/upholstery.csv\")"
   ]
  },
  {
   "cell_type": "code",
   "execution_count": 16,
   "id": "9deee0f5-3396-4d40-af87-aad3561497da",
   "metadata": {},
   "outputs": [
    {
     "name": "stdout",
     "output_type": "stream",
     "text": [
      "\n",
      "   Cell Contents\n",
      "|-------------------------|\n",
      "|                   Count |\n",
      "|         Expected Values |\n",
      "| Chi-square contribution |\n",
      "|             Row Percent |\n",
      "|          Column Percent |\n",
      "|           Total Percent |\n",
      "|            Std Residual |\n",
      "|-------------------------|\n",
      "\n",
      "Total Observations in Table:  162 \n",
      "\n",
      "                     | upholstery$Upholstery \n",
      "upholstery$TimePoint |        0  |        1  | Row Total | \n",
      "---------------------|-----------|-----------|-----------|\n",
      "                   3 |       64  |       18  |       82  | \n",
      "                     |   59.222  |   22.778  |           | \n",
      "                     |    0.385  |    1.002  |           | \n",
      "                     |   78.049% |   21.951% |   50.617% | \n",
      "                     |   54.701% |   40.000% |           | \n",
      "                     |   39.506% |   11.111% |           | \n",
      "                     |    0.621  |   -1.001  |           | \n",
      "---------------------|-----------|-----------|-----------|\n",
      "                   4 |       53  |       27  |       80  | \n",
      "                     |   57.778  |   22.222  |           | \n",
      "                     |    0.395  |    1.027  |           | \n",
      "                     |   66.250% |   33.750% |   49.383% | \n",
      "                     |   45.299% |   60.000% |           | \n",
      "                     |   32.716% |   16.667% |           | \n",
      "                     |   -0.629  |    1.014  |           | \n",
      "---------------------|-----------|-----------|-----------|\n",
      "        Column Total |      117  |       45  |      162  | \n",
      "                     |   72.222% |   27.778% |           | \n",
      "---------------------|-----------|-----------|-----------|\n",
      "\n",
      " \n",
      "Statistics for All Table Factors\n",
      "\n",
      "\n",
      "Pearson's Chi-squared test \n",
      "------------------------------------------------------------\n",
      "Chi^2 =  2.809925     d.f. =  1     p =  0.09368276 \n",
      "\n",
      "Pearson's Chi-squared test with Yates' continuity correction \n",
      "------------------------------------------------------------\n",
      "Chi^2 =  2.252575     d.f. =  1     p =  0.1333923 \n",
      "\n",
      " \n",
      "McNemar's Chi-squared test \n",
      "------------------------------------------------------------\n",
      "Chi^2 =  17.25352     d.f. =  1     p =  3.270908e-05 \n",
      "\n",
      "McNemar's Chi-squared test with continuity correction \n",
      "------------------------------------------------------------\n",
      "Chi^2 =  16.28169     d.f. =  1     p =  5.45889e-05 \n",
      "\n",
      " \n",
      "Fisher's Exact Test for Count Data\n",
      "------------------------------------------------------------\n",
      "Sample estimate odds ratio:  1.804672 \n",
      "\n",
      "Alternative hypothesis: true odds ratio is not equal to 1\n",
      "p =  0.114936 \n",
      "95% confidence interval:  0.8527176 3.891515 \n",
      "\n",
      "Alternative hypothesis: true odds ratio is less than 1\n",
      "p =  0.9682374 \n",
      "95% confidence interval:  0 3.465298 \n",
      "\n",
      "Alternative hypothesis: true odds ratio is greater than 1\n",
      "p =  0.06650724 \n",
      "95% confidence interval:  0.9515983 Inf \n",
      "\n",
      "\n",
      " \n",
      "       Minimum expected frequency: 22.22222 \n",
      "\n"
     ]
    }
   ],
   "source": [
    "# run analysis\n",
    "CrossTable(upholstery$TimePoint, upholstery$Upholstery, fisher=TRUE, chisq=TRUE, mcnemar=TRUE, expected=TRUE, sresid=TRUE, format=\"SPSS\")"
   ]
  },
  {
   "cell_type": "markdown",
   "id": "5d466173-eaf4-4001-a393-37a453e316e1",
   "metadata": {},
   "source": [
    "## Although it is significant, when we actually look at the standardized residauls, there's nothing over the absolute value of 2, so not really"
   ]
  },
  {
   "cell_type": "code",
   "execution_count": null,
   "id": "300d1e4d-cb90-467a-bc6e-8b032572e783",
   "metadata": {},
   "outputs": [],
   "source": []
  }
 ],
 "metadata": {
  "kernelspec": {
   "display_name": "R",
   "language": "R",
   "name": "ir"
  },
  "language_info": {
   "codemirror_mode": "r",
   "file_extension": ".r",
   "mimetype": "text/x-r-source",
   "name": "R",
   "pygments_lexer": "r",
   "version": "4.2.1"
  }
 },
 "nbformat": 4,
 "nbformat_minor": 5
}
