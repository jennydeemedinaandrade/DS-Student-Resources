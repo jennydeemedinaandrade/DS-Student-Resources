{
 "cells": [
  {
   "cell_type": "markdown",
   "id": "67b669ca-590c-45f8-b8ce-3d8e79562988",
   "metadata": {},
   "source": [
    "# Data Wrangling in R"
   ]
  },
  {
   "cell_type": "code",
   "execution_count": 1,
   "id": "c4c2a5be-b422-4a02-8912-c20b2de5c6a2",
   "metadata": {},
   "outputs": [
    {
     "name": "stdout",
     "output_type": "stream",
     "text": [
      "\n",
      "The downloaded binary packages are in\n",
      "\t/var/folders/wk/6why77bn1kn0l0pkd4vd3zl00000gn/T//RtmpSnFOCl/downloaded_packages\n"
     ]
    },
    {
     "data": {
      "text/html": [
       "<!doctype html>\n",
       "<html>\n",
       "\t<head>\n",
       "\t\t<meta charset=\"utf-8\">\n",
       "\t\t<link href=\"data:text/css;charset-utf-8;base64,LnZlbWJlZHIgewogIG1hcmdpbi1ib3R0b206IDEwcHg7Cn0KCi52ZW1iZWRyLXJvdW5kZWQgewogIGRpc3BsYXk6IGlubGluZS1ibG9jazsKICBib3JkZXItcmFkaXVzOiAxNXB4OwogIG92ZXJmbG93OiBoaWRkZW47Cn0KCi52ZW1iZWRyLXJvdW5kZWQgaWZyYW1lIHsKICBkaXNwbGF5OiBibG9jazsKICBib3JkZXI6IG5vbmU7Cn0K\" rel=\"stylesheet\" />\n",
       "\t</head>\n",
       "\t<body>\n",
       "\t\t<div class=\"vembedr\">\n",
       "  <div>\n",
       "    <iframe class=\"vimeo-embed\" src=\"https://player.vimeo.com/video/649259759\" width=\"533\" height=\"300\" frameborder=\"0\" webkitallowfullscreen=\"\" mozallowfullscreen=\"\" allowfullscreen=\"\" data-external=\"1\"></iframe>\n",
       "  </div>\n",
       "</div>\n",
       "\t</body>\n",
       "</html>\n"
      ],
      "text/plain": [
       "Shiny tags cannot be represented in plain text (need html)"
      ]
     },
     "metadata": {
      "text/html": {
       "isolated": true
      }
     },
     "output_type": "display_data"
    }
   ],
   "source": [
    "install.packages(\"vembedr\")\n",
    "library(\"vembedr\")\n",
    "embed_vimeo(\"649259759\")"
   ]
  },
  {
   "cell_type": "markdown",
   "id": "92e36205-ff02-470b-b4d9-6092f042ae54",
   "metadata": {},
   "source": [
    "https://vimeo.com/649259759"
   ]
  },
  {
   "cell_type": "code",
   "execution_count": 2,
   "id": "dde9fd03-915c-44dc-b860-eb5986b044c9",
   "metadata": {},
   "outputs": [
    {
     "name": "stdout",
     "output_type": "stream",
     "text": [
      "\n",
      "The downloaded binary packages are in\n",
      "\t/var/folders/wk/6why77bn1kn0l0pkd4vd3zl00000gn/T//RtmplUKyrS/downloaded_packages\n"
     ]
    }
   ],
   "source": [
    "# Install packages\n",
    "install.packages(\"tidyverse\")"
   ]
  },
  {
   "cell_type": "code",
   "execution_count": 3,
   "id": "a1a759fb-e31d-4eb1-ae84-f314111998f4",
   "metadata": {},
   "outputs": [
    {
     "name": "stderr",
     "output_type": "stream",
     "text": [
      "── \u001b[1mAttaching packages\u001b[22m ─────────────────────────────────────────── tidyverse 1.3.1 ──\n",
      "\n",
      "\u001b[32m✔\u001b[39m \u001b[34mggplot2\u001b[39m 3.3.5     \u001b[32m✔\u001b[39m \u001b[34mpurrr  \u001b[39m 0.3.4\n",
      "\u001b[32m✔\u001b[39m \u001b[34mtibble \u001b[39m 3.1.6     \u001b[32m✔\u001b[39m \u001b[34mdplyr  \u001b[39m 1.0.7\n",
      "\u001b[32m✔\u001b[39m \u001b[34mtidyr  \u001b[39m 1.1.4     \u001b[32m✔\u001b[39m \u001b[34mstringr\u001b[39m 1.4.0\n",
      "\u001b[32m✔\u001b[39m \u001b[34mreadr  \u001b[39m 2.1.0     \u001b[32m✔\u001b[39m \u001b[34mforcats\u001b[39m 0.5.1\n",
      "\n",
      "── \u001b[1mConflicts\u001b[22m ────────────────────────────────────────────── tidyverse_conflicts() ──\n",
      "\u001b[31m✖\u001b[39m \u001b[34mdplyr\u001b[39m::\u001b[32mfilter()\u001b[39m masks \u001b[34mstats\u001b[39m::filter()\n",
      "\u001b[31m✖\u001b[39m \u001b[34mdplyr\u001b[39m::\u001b[32mlag()\u001b[39m    masks \u001b[34mstats\u001b[39m::lag()\n",
      "\n"
     ]
    }
   ],
   "source": [
    "# Load library\n",
    "library(tidyverse)"
   ]
  },
  {
   "cell_type": "code",
   "execution_count": 3,
   "id": "4d68a566-b7eb-455c-936b-903cf8f0ea27",
   "metadata": {},
   "outputs": [
    {
     "data": {
      "text/html": [
       "'/Users/dannylumian/Documents/GitHub/DS-Student-Resources/DS104-Data-Wrangling-and-Visualization/Workshops/01-Data-Wrangling-in-R'"
      ],
      "text/latex": [
       "'/Users/dannylumian/Documents/GitHub/DS-Student-Resources/DS104-Data-Wrangling-and-Visualization/Workshops/01-Data-Wrangling-in-R'"
      ],
      "text/markdown": [
       "'/Users/dannylumian/Documents/GitHub/DS-Student-Resources/DS104-Data-Wrangling-and-Visualization/Workshops/01-Data-Wrangling-in-R'"
      ],
      "text/plain": [
       "[1] \"/Users/dannylumian/Documents/GitHub/DS-Student-Resources/DS104-Data-Wrangling-and-Visualization/Workshops/01-Data-Wrangling-in-R\""
      ]
     },
     "metadata": {},
     "output_type": "display_data"
    }
   ],
   "source": [
    "# Show working directory\n",
    "getwd()"
   ]
  },
  {
   "cell_type": "code",
   "execution_count": 11,
   "id": "ef93a3ae-fb31-482b-823c-9f86333ca0f4",
   "metadata": {},
   "outputs": [
    {
     "data": {
      "text/html": [
       "<table class=\"dataframe\">\n",
       "<caption>A data.frame: 6 × 10</caption>\n",
       "<thead>\n",
       "\t<tr><th></th><th scope=col>volcano_number</th><th scope=col>volcano_name</th><th scope=col>eruption_number</th><th scope=col>eruption_start_year</th><th scope=col>event_number</th><th scope=col>event_type</th><th scope=col>event_remarks</th><th scope=col>event_date_year</th><th scope=col>event_date_month</th><th scope=col>event_date_day</th></tr>\n",
       "\t<tr><th></th><th scope=col>&lt;int&gt;</th><th scope=col>&lt;chr&gt;</th><th scope=col>&lt;int&gt;</th><th scope=col>&lt;int&gt;</th><th scope=col>&lt;int&gt;</th><th scope=col>&lt;chr&gt;</th><th scope=col>&lt;chr&gt;</th><th scope=col>&lt;int&gt;</th><th scope=col>&lt;int&gt;</th><th scope=col>&lt;int&gt;</th></tr>\n",
       "</thead>\n",
       "<tbody>\n",
       "\t<tr><th scope=row>1</th><td>210020</td><td>Chaine des Puys</td><td>10011</td><td>-4040</td><td>100001</td><td>Explosion            </td><td>NA</td><td>NA</td><td>NA</td><td>NA</td></tr>\n",
       "\t<tr><th scope=row>2</th><td>210020</td><td>Chaine des Puys</td><td>10011</td><td>-4040</td><td>100002</td><td>Scoria               </td><td>NA</td><td>NA</td><td>NA</td><td>NA</td></tr>\n",
       "\t<tr><th scope=row>3</th><td>210020</td><td>Chaine des Puys</td><td>10011</td><td>-4040</td><td>100003</td><td>Pyroclastic flow     </td><td>NA</td><td>NA</td><td>NA</td><td>NA</td></tr>\n",
       "\t<tr><th scope=row>4</th><td>210020</td><td>Chaine des Puys</td><td>10011</td><td>-4040</td><td>100004</td><td>Lava flow(s)         </td><td>NA</td><td>NA</td><td>NA</td><td>NA</td></tr>\n",
       "\t<tr><th scope=row>5</th><td>210020</td><td>Chaine des Puys</td><td>10011</td><td>-4040</td><td>100005</td><td>Cinder cone formation</td><td>NA</td><td>NA</td><td>NA</td><td>NA</td></tr>\n",
       "\t<tr><th scope=row>6</th><td>210020</td><td>Chaine des Puys</td><td>10011</td><td>-4040</td><td>100006</td><td>Pumice               </td><td>NA</td><td>NA</td><td>NA</td><td>NA</td></tr>\n",
       "</tbody>\n",
       "</table>\n"
      ],
      "text/latex": [
       "A data.frame: 6 × 10\n",
       "\\begin{tabular}{r|llllllllll}\n",
       "  & volcano\\_number & volcano\\_name & eruption\\_number & eruption\\_start\\_year & event\\_number & event\\_type & event\\_remarks & event\\_date\\_year & event\\_date\\_month & event\\_date\\_day\\\\\n",
       "  & <int> & <chr> & <int> & <int> & <int> & <chr> & <chr> & <int> & <int> & <int>\\\\\n",
       "\\hline\n",
       "\t1 & 210020 & Chaine des Puys & 10011 & -4040 & 100001 & Explosion             & NA & NA & NA & NA\\\\\n",
       "\t2 & 210020 & Chaine des Puys & 10011 & -4040 & 100002 & Scoria                & NA & NA & NA & NA\\\\\n",
       "\t3 & 210020 & Chaine des Puys & 10011 & -4040 & 100003 & Pyroclastic flow      & NA & NA & NA & NA\\\\\n",
       "\t4 & 210020 & Chaine des Puys & 10011 & -4040 & 100004 & Lava flow(s)          & NA & NA & NA & NA\\\\\n",
       "\t5 & 210020 & Chaine des Puys & 10011 & -4040 & 100005 & Cinder cone formation & NA & NA & NA & NA\\\\\n",
       "\t6 & 210020 & Chaine des Puys & 10011 & -4040 & 100006 & Pumice                & NA & NA & NA & NA\\\\\n",
       "\\end{tabular}\n"
      ],
      "text/markdown": [
       "\n",
       "A data.frame: 6 × 10\n",
       "\n",
       "| <!--/--> | volcano_number &lt;int&gt; | volcano_name &lt;chr&gt; | eruption_number &lt;int&gt; | eruption_start_year &lt;int&gt; | event_number &lt;int&gt; | event_type &lt;chr&gt; | event_remarks &lt;chr&gt; | event_date_year &lt;int&gt; | event_date_month &lt;int&gt; | event_date_day &lt;int&gt; |\n",
       "|---|---|---|---|---|---|---|---|---|---|---|\n",
       "| 1 | 210020 | Chaine des Puys | 10011 | -4040 | 100001 | Explosion             | NA | NA | NA | NA |\n",
       "| 2 | 210020 | Chaine des Puys | 10011 | -4040 | 100002 | Scoria                | NA | NA | NA | NA |\n",
       "| 3 | 210020 | Chaine des Puys | 10011 | -4040 | 100003 | Pyroclastic flow      | NA | NA | NA | NA |\n",
       "| 4 | 210020 | Chaine des Puys | 10011 | -4040 | 100004 | Lava flow(s)          | NA | NA | NA | NA |\n",
       "| 5 | 210020 | Chaine des Puys | 10011 | -4040 | 100005 | Cinder cone formation | NA | NA | NA | NA |\n",
       "| 6 | 210020 | Chaine des Puys | 10011 | -4040 | 100006 | Pumice                | NA | NA | NA | NA |\n",
       "\n"
      ],
      "text/plain": [
       "  volcano_number volcano_name    eruption_number eruption_start_year\n",
       "1 210020         Chaine des Puys 10011           -4040              \n",
       "2 210020         Chaine des Puys 10011           -4040              \n",
       "3 210020         Chaine des Puys 10011           -4040              \n",
       "4 210020         Chaine des Puys 10011           -4040              \n",
       "5 210020         Chaine des Puys 10011           -4040              \n",
       "6 210020         Chaine des Puys 10011           -4040              \n",
       "  event_number event_type            event_remarks event_date_year\n",
       "1 100001       Explosion             NA            NA             \n",
       "2 100002       Scoria                NA            NA             \n",
       "3 100003       Pyroclastic flow      NA            NA             \n",
       "4 100004       Lava flow(s)          NA            NA             \n",
       "5 100005       Cinder cone formation NA            NA             \n",
       "6 100006       Pumice                NA            NA             \n",
       "  event_date_month event_date_day\n",
       "1 NA               NA            \n",
       "2 NA               NA            \n",
       "3 NA               NA            \n",
       "4 NA               NA            \n",
       "5 NA               NA            \n",
       "6 NA               NA            "
      ]
     },
     "metadata": {},
     "output_type": "display_data"
    }
   ],
   "source": [
    "#volcanoes.csv\n",
    "volcanoes = read.csv('../../Data/volcanoes.csv')\n",
    "head(volcanoes)"
   ]
  },
  {
   "cell_type": "code",
   "execution_count": 12,
   "id": "7196db8d-df41-4a84-b4d9-4d5fd7f46422",
   "metadata": {},
   "outputs": [
    {
     "data": {
      "text/html": [
       "<style>\n",
       ".list-inline {list-style: none; margin:0; padding: 0}\n",
       ".list-inline>li {display: inline-block}\n",
       ".list-inline>li:not(:last-child)::after {content: \"\\00b7\"; padding: 0 .5ex}\n",
       "</style>\n",
       "<ol class=list-inline><li>'Explosion'</li><li>'Scoria'</li><li>'Pyroclastic flow'</li><li>'Lava flow(s)'</li><li>'Cinder cone formation'</li><li>'Pumice'</li><li>'Flames'</li><li>'Phreatic activity'</li><li>'Ash'</li><li>'Lapilli'</li><li>'Lahar or mudflow'</li><li>'Bombs'</li><li>'Lava dome formation'</li><li>'Phreatomagmatic eruption'</li><li>'Property damage'</li><li>'Earthquakes (undefined)'</li><li>'Blocks'</li><li>'Lava lake'</li><li>'Fatalities'</li><li>'Evacuations'</li><li>'Lava fountains'</li><li>'Tsunami'</li><li>'Caldera formation'</li><li>'Eruption cloud'</li><li>'Seismicity (volcanic)'</li><li>'Partial collapse at end of eruption'</li><li>'Volcanic tremor'</li><li>'Debris avalanches'</li><li>'Deformation (inflation)'</li><li>'Deformation (deflation)'</li><li>'Loud audible noises'</li><li>'Deformation (undefined)'</li><li>'Glow'</li><li>'Fauna kill'</li><li>'Edifice destroyed'</li><li>'Lightning'</li><li>'Tephra'</li><li>'Crater formation'</li><li>'Island formation'</li><li>'Spine formation'</li><li>'Earthquake (tectonic)'</li><li>'Directed explosion'</li><li>'Mud'</li><li>'Fumarolic or solfataric'</li><li>'Volcanic smoke'</li><li>'Liquid sulfur'</li><li>'Jokulhaup'</li><li>'Fissure formation'</li><li>'Water fountain'</li><li>'Thermal anomaly'</li><li>'VEI (Explosivity Index)'</li><li>'Observation'</li><li>'Degassing'</li><li>'Ash Plume'</li><li>'Ashfall'</li><li>'Incandescent ejecta'</li></ol>\n"
      ],
      "text/latex": [
       "\\begin{enumerate*}\n",
       "\\item 'Explosion'\n",
       "\\item 'Scoria'\n",
       "\\item 'Pyroclastic flow'\n",
       "\\item 'Lava flow(s)'\n",
       "\\item 'Cinder cone formation'\n",
       "\\item 'Pumice'\n",
       "\\item 'Flames'\n",
       "\\item 'Phreatic activity'\n",
       "\\item 'Ash'\n",
       "\\item 'Lapilli'\n",
       "\\item 'Lahar or mudflow'\n",
       "\\item 'Bombs'\n",
       "\\item 'Lava dome formation'\n",
       "\\item 'Phreatomagmatic eruption'\n",
       "\\item 'Property damage'\n",
       "\\item 'Earthquakes (undefined)'\n",
       "\\item 'Blocks'\n",
       "\\item 'Lava lake'\n",
       "\\item 'Fatalities'\n",
       "\\item 'Evacuations'\n",
       "\\item 'Lava fountains'\n",
       "\\item 'Tsunami'\n",
       "\\item 'Caldera formation'\n",
       "\\item 'Eruption cloud'\n",
       "\\item 'Seismicity (volcanic)'\n",
       "\\item 'Partial collapse at end of eruption'\n",
       "\\item 'Volcanic tremor'\n",
       "\\item 'Debris avalanches'\n",
       "\\item 'Deformation (inflation)'\n",
       "\\item 'Deformation (deflation)'\n",
       "\\item 'Loud audible noises'\n",
       "\\item 'Deformation (undefined)'\n",
       "\\item 'Glow'\n",
       "\\item 'Fauna kill'\n",
       "\\item 'Edifice destroyed'\n",
       "\\item 'Lightning'\n",
       "\\item 'Tephra'\n",
       "\\item 'Crater formation'\n",
       "\\item 'Island formation'\n",
       "\\item 'Spine formation'\n",
       "\\item 'Earthquake (tectonic)'\n",
       "\\item 'Directed explosion'\n",
       "\\item 'Mud'\n",
       "\\item 'Fumarolic or solfataric'\n",
       "\\item 'Volcanic smoke'\n",
       "\\item 'Liquid sulfur'\n",
       "\\item 'Jokulhaup'\n",
       "\\item 'Fissure formation'\n",
       "\\item 'Water fountain'\n",
       "\\item 'Thermal anomaly'\n",
       "\\item 'VEI (Explosivity Index)'\n",
       "\\item 'Observation'\n",
       "\\item 'Degassing'\n",
       "\\item 'Ash Plume'\n",
       "\\item 'Ashfall'\n",
       "\\item 'Incandescent ejecta'\n",
       "\\end{enumerate*}\n"
      ],
      "text/markdown": [
       "1. 'Explosion'\n",
       "2. 'Scoria'\n",
       "3. 'Pyroclastic flow'\n",
       "4. 'Lava flow(s)'\n",
       "5. 'Cinder cone formation'\n",
       "6. 'Pumice'\n",
       "7. 'Flames'\n",
       "8. 'Phreatic activity'\n",
       "9. 'Ash'\n",
       "10. 'Lapilli'\n",
       "11. 'Lahar or mudflow'\n",
       "12. 'Bombs'\n",
       "13. 'Lava dome formation'\n",
       "14. 'Phreatomagmatic eruption'\n",
       "15. 'Property damage'\n",
       "16. 'Earthquakes (undefined)'\n",
       "17. 'Blocks'\n",
       "18. 'Lava lake'\n",
       "19. 'Fatalities'\n",
       "20. 'Evacuations'\n",
       "21. 'Lava fountains'\n",
       "22. 'Tsunami'\n",
       "23. 'Caldera formation'\n",
       "24. 'Eruption cloud'\n",
       "25. 'Seismicity (volcanic)'\n",
       "26. 'Partial collapse at end of eruption'\n",
       "27. 'Volcanic tremor'\n",
       "28. 'Debris avalanches'\n",
       "29. 'Deformation (inflation)'\n",
       "30. 'Deformation (deflation)'\n",
       "31. 'Loud audible noises'\n",
       "32. 'Deformation (undefined)'\n",
       "33. 'Glow'\n",
       "34. 'Fauna kill'\n",
       "35. 'Edifice destroyed'\n",
       "36. 'Lightning'\n",
       "37. 'Tephra'\n",
       "38. 'Crater formation'\n",
       "39. 'Island formation'\n",
       "40. 'Spine formation'\n",
       "41. 'Earthquake (tectonic)'\n",
       "42. 'Directed explosion'\n",
       "43. 'Mud'\n",
       "44. 'Fumarolic or solfataric'\n",
       "45. 'Volcanic smoke'\n",
       "46. 'Liquid sulfur'\n",
       "47. 'Jokulhaup'\n",
       "48. 'Fissure formation'\n",
       "49. 'Water fountain'\n",
       "50. 'Thermal anomaly'\n",
       "51. 'VEI (Explosivity Index)'\n",
       "52. 'Observation'\n",
       "53. 'Degassing'\n",
       "54. 'Ash Plume'\n",
       "55. 'Ashfall'\n",
       "56. 'Incandescent ejecta'\n",
       "\n",
       "\n"
      ],
      "text/plain": [
       " [1] \"Explosion\"                           \"Scoria\"                             \n",
       " [3] \"Pyroclastic flow\"                    \"Lava flow(s)\"                       \n",
       " [5] \"Cinder cone formation\"               \"Pumice\"                             \n",
       " [7] \"Flames\"                              \"Phreatic activity\"                  \n",
       " [9] \"Ash\"                                 \"Lapilli\"                            \n",
       "[11] \"Lahar or mudflow\"                    \"Bombs\"                              \n",
       "[13] \"Lava dome formation\"                 \"Phreatomagmatic eruption\"           \n",
       "[15] \"Property damage\"                     \"Earthquakes (undefined)\"            \n",
       "[17] \"Blocks\"                              \"Lava lake\"                          \n",
       "[19] \"Fatalities\"                          \"Evacuations\"                        \n",
       "[21] \"Lava fountains\"                      \"Tsunami\"                            \n",
       "[23] \"Caldera formation\"                   \"Eruption cloud\"                     \n",
       "[25] \"Seismicity (volcanic)\"               \"Partial collapse at end of eruption\"\n",
       "[27] \"Volcanic tremor\"                     \"Debris avalanches\"                  \n",
       "[29] \"Deformation (inflation)\"             \"Deformation (deflation)\"            \n",
       "[31] \"Loud audible noises\"                 \"Deformation (undefined)\"            \n",
       "[33] \"Glow\"                                \"Fauna kill\"                         \n",
       "[35] \"Edifice destroyed\"                   \"Lightning\"                          \n",
       "[37] \"Tephra\"                              \"Crater formation\"                   \n",
       "[39] \"Island formation\"                    \"Spine formation\"                    \n",
       "[41] \"Earthquake (tectonic)\"               \"Directed explosion\"                 \n",
       "[43] \"Mud\"                                 \"Fumarolic or solfataric\"            \n",
       "[45] \"Volcanic smoke\"                      \"Liquid sulfur\"                      \n",
       "[47] \"Jokulhaup\"                           \"Fissure formation\"                  \n",
       "[49] \"Water fountain\"                      \"Thermal anomaly\"                    \n",
       "[51] \"VEI (Explosivity Index)\"             \"Observation\"                        \n",
       "[53] \"Degassing\"                           \"Ash Plume\"                          \n",
       "[55] \"Ashfall\"                             \"Incandescent ejecta\"                "
      ]
     },
     "metadata": {},
     "output_type": "display_data"
    }
   ],
   "source": [
    "# View unique values in event_type\n",
    "unique(volcanoes$event_type)"
   ]
  },
  {
   "cell_type": "code",
   "execution_count": 13,
   "id": "55e27d6c-1ca9-46e4-be90-de0f3fc18107",
   "metadata": {},
   "outputs": [
    {
     "data": {
      "text/html": [
       "<style>\n",
       ".list-inline {list-style: none; margin:0; padding: 0}\n",
       ".list-inline>li {display: inline-block}\n",
       ".list-inline>li:not(:last-child)::after {content: \"\\00b7\"; padding: 0 .5ex}\n",
       "</style>\n",
       "<ol class=list-inline><li>'Chaine des Puys'</li><li>'Calatrava Volcanic Field'</li><li>'Vulsini'</li><li>'Colli Albani'</li><li>'Campi Flegrei'</li></ol>\n"
      ],
      "text/latex": [
       "\\begin{enumerate*}\n",
       "\\item 'Chaine des Puys'\n",
       "\\item 'Calatrava Volcanic Field'\n",
       "\\item 'Vulsini'\n",
       "\\item 'Colli Albani'\n",
       "\\item 'Campi Flegrei'\n",
       "\\end{enumerate*}\n"
      ],
      "text/markdown": [
       "1. 'Chaine des Puys'\n",
       "2. 'Calatrava Volcanic Field'\n",
       "3. 'Vulsini'\n",
       "4. 'Colli Albani'\n",
       "5. 'Campi Flegrei'\n",
       "\n",
       "\n"
      ],
      "text/plain": [
       "[1] \"Chaine des Puys\"          \"Calatrava Volcanic Field\"\n",
       "[3] \"Vulsini\"                  \"Colli Albani\"            \n",
       "[5] \"Campi Flegrei\"           "
      ]
     },
     "metadata": {},
     "output_type": "display_data"
    }
   ],
   "source": [
    "# View first 5 unique values in volcano name\n",
    "unique(volcanoes$volcano_name)[0:5]"
   ]
  },
  {
   "cell_type": "code",
   "execution_count": 14,
   "id": "24182853-d8fb-47b9-8a7f-b4a419e22ea9",
   "metadata": {},
   "outputs": [
    {
     "data": {
      "text/html": [
       "210010"
      ],
      "text/latex": [
       "210010"
      ],
      "text/markdown": [
       "210010"
      ],
      "text/plain": [
       "[1] 210010"
      ]
     },
     "metadata": {},
     "output_type": "display_data"
    },
    {
     "data": {
      "text/html": [
       "600000"
      ],
      "text/latex": [
       "600000"
      ],
      "text/markdown": [
       "600000"
      ],
      "text/plain": [
       "[1] 600000"
      ]
     },
     "metadata": {},
     "output_type": "display_data"
    }
   ],
   "source": [
    "# Min and max of volcano number\n",
    "min(volcanoes$volcano_number)\n",
    "max(volcanoes$volcano_number)"
   ]
  },
  {
   "cell_type": "code",
   "execution_count": 15,
   "id": "287e802d-bbb9-49fe-a96a-4bc51736449e",
   "metadata": {},
   "outputs": [],
   "source": [
    "# Add Columns\n",
    "volcanoes$ErruptionYN = \"Y\""
   ]
  },
  {
   "cell_type": "code",
   "execution_count": 16,
   "id": "3c304756-1976-4f72-94e6-9c5ee3df8ecf",
   "metadata": {},
   "outputs": [
    {
     "data": {
      "text/html": [
       "<table class=\"dataframe\">\n",
       "<caption>A data.frame: 6 × 11</caption>\n",
       "<thead>\n",
       "\t<tr><th></th><th scope=col>volcano_number</th><th scope=col>volcano_name</th><th scope=col>eruption_number</th><th scope=col>eruption_start_year</th><th scope=col>event_number</th><th scope=col>event_type</th><th scope=col>event_remarks</th><th scope=col>event_date_year</th><th scope=col>event_date_month</th><th scope=col>event_date_day</th><th scope=col>ErruptionYN</th></tr>\n",
       "\t<tr><th></th><th scope=col>&lt;int&gt;</th><th scope=col>&lt;chr&gt;</th><th scope=col>&lt;int&gt;</th><th scope=col>&lt;int&gt;</th><th scope=col>&lt;int&gt;</th><th scope=col>&lt;chr&gt;</th><th scope=col>&lt;chr&gt;</th><th scope=col>&lt;int&gt;</th><th scope=col>&lt;int&gt;</th><th scope=col>&lt;int&gt;</th><th scope=col>&lt;chr&gt;</th></tr>\n",
       "</thead>\n",
       "<tbody>\n",
       "\t<tr><th scope=row>1</th><td>210020</td><td>Chaine des Puys</td><td>10011</td><td>-4040</td><td>100001</td><td>Explosion            </td><td>NA</td><td>NA</td><td>NA</td><td>NA</td><td>Y</td></tr>\n",
       "\t<tr><th scope=row>2</th><td>210020</td><td>Chaine des Puys</td><td>10011</td><td>-4040</td><td>100002</td><td>Scoria               </td><td>NA</td><td>NA</td><td>NA</td><td>NA</td><td>Y</td></tr>\n",
       "\t<tr><th scope=row>3</th><td>210020</td><td>Chaine des Puys</td><td>10011</td><td>-4040</td><td>100003</td><td>Pyroclastic flow     </td><td>NA</td><td>NA</td><td>NA</td><td>NA</td><td>Y</td></tr>\n",
       "\t<tr><th scope=row>4</th><td>210020</td><td>Chaine des Puys</td><td>10011</td><td>-4040</td><td>100004</td><td>Lava flow(s)         </td><td>NA</td><td>NA</td><td>NA</td><td>NA</td><td>Y</td></tr>\n",
       "\t<tr><th scope=row>5</th><td>210020</td><td>Chaine des Puys</td><td>10011</td><td>-4040</td><td>100005</td><td>Cinder cone formation</td><td>NA</td><td>NA</td><td>NA</td><td>NA</td><td>Y</td></tr>\n",
       "\t<tr><th scope=row>6</th><td>210020</td><td>Chaine des Puys</td><td>10011</td><td>-4040</td><td>100006</td><td>Pumice               </td><td>NA</td><td>NA</td><td>NA</td><td>NA</td><td>Y</td></tr>\n",
       "</tbody>\n",
       "</table>\n"
      ],
      "text/latex": [
       "A data.frame: 6 × 11\n",
       "\\begin{tabular}{r|lllllllllll}\n",
       "  & volcano\\_number & volcano\\_name & eruption\\_number & eruption\\_start\\_year & event\\_number & event\\_type & event\\_remarks & event\\_date\\_year & event\\_date\\_month & event\\_date\\_day & ErruptionYN\\\\\n",
       "  & <int> & <chr> & <int> & <int> & <int> & <chr> & <chr> & <int> & <int> & <int> & <chr>\\\\\n",
       "\\hline\n",
       "\t1 & 210020 & Chaine des Puys & 10011 & -4040 & 100001 & Explosion             & NA & NA & NA & NA & Y\\\\\n",
       "\t2 & 210020 & Chaine des Puys & 10011 & -4040 & 100002 & Scoria                & NA & NA & NA & NA & Y\\\\\n",
       "\t3 & 210020 & Chaine des Puys & 10011 & -4040 & 100003 & Pyroclastic flow      & NA & NA & NA & NA & Y\\\\\n",
       "\t4 & 210020 & Chaine des Puys & 10011 & -4040 & 100004 & Lava flow(s)          & NA & NA & NA & NA & Y\\\\\n",
       "\t5 & 210020 & Chaine des Puys & 10011 & -4040 & 100005 & Cinder cone formation & NA & NA & NA & NA & Y\\\\\n",
       "\t6 & 210020 & Chaine des Puys & 10011 & -4040 & 100006 & Pumice                & NA & NA & NA & NA & Y\\\\\n",
       "\\end{tabular}\n"
      ],
      "text/markdown": [
       "\n",
       "A data.frame: 6 × 11\n",
       "\n",
       "| <!--/--> | volcano_number &lt;int&gt; | volcano_name &lt;chr&gt; | eruption_number &lt;int&gt; | eruption_start_year &lt;int&gt; | event_number &lt;int&gt; | event_type &lt;chr&gt; | event_remarks &lt;chr&gt; | event_date_year &lt;int&gt; | event_date_month &lt;int&gt; | event_date_day &lt;int&gt; | ErruptionYN &lt;chr&gt; |\n",
       "|---|---|---|---|---|---|---|---|---|---|---|---|\n",
       "| 1 | 210020 | Chaine des Puys | 10011 | -4040 | 100001 | Explosion             | NA | NA | NA | NA | Y |\n",
       "| 2 | 210020 | Chaine des Puys | 10011 | -4040 | 100002 | Scoria                | NA | NA | NA | NA | Y |\n",
       "| 3 | 210020 | Chaine des Puys | 10011 | -4040 | 100003 | Pyroclastic flow      | NA | NA | NA | NA | Y |\n",
       "| 4 | 210020 | Chaine des Puys | 10011 | -4040 | 100004 | Lava flow(s)          | NA | NA | NA | NA | Y |\n",
       "| 5 | 210020 | Chaine des Puys | 10011 | -4040 | 100005 | Cinder cone formation | NA | NA | NA | NA | Y |\n",
       "| 6 | 210020 | Chaine des Puys | 10011 | -4040 | 100006 | Pumice                | NA | NA | NA | NA | Y |\n",
       "\n"
      ],
      "text/plain": [
       "  volcano_number volcano_name    eruption_number eruption_start_year\n",
       "1 210020         Chaine des Puys 10011           -4040              \n",
       "2 210020         Chaine des Puys 10011           -4040              \n",
       "3 210020         Chaine des Puys 10011           -4040              \n",
       "4 210020         Chaine des Puys 10011           -4040              \n",
       "5 210020         Chaine des Puys 10011           -4040              \n",
       "6 210020         Chaine des Puys 10011           -4040              \n",
       "  event_number event_type            event_remarks event_date_year\n",
       "1 100001       Explosion             NA            NA             \n",
       "2 100002       Scoria                NA            NA             \n",
       "3 100003       Pyroclastic flow      NA            NA             \n",
       "4 100004       Lava flow(s)          NA            NA             \n",
       "5 100005       Cinder cone formation NA            NA             \n",
       "6 100006       Pumice                NA            NA             \n",
       "  event_date_month event_date_day ErruptionYN\n",
       "1 NA               NA             Y          \n",
       "2 NA               NA             Y          \n",
       "3 NA               NA             Y          \n",
       "4 NA               NA             Y          \n",
       "5 NA               NA             Y          \n",
       "6 NA               NA             Y          "
      ]
     },
     "metadata": {},
     "output_type": "display_data"
    }
   ],
   "source": [
    "#notice the new ErruptionYN column\n",
    "head(volcanoes)"
   ]
  },
  {
   "cell_type": "code",
   "execution_count": 10,
   "id": "4bf8588e-8181-412b-bf74-a3e5f1eba5ae",
   "metadata": {},
   "outputs": [
    {
     "data": {
      "text/html": [
       "<table class=\"dataframe\">\n",
       "<caption>A data.frame: 6 × 11</caption>\n",
       "<thead>\n",
       "\t<tr><th></th><th scope=col>volcano_number</th><th scope=col>volcano_name</th><th scope=col>eruption_number</th><th scope=col>eruption_start_year</th><th scope=col>event_number</th><th scope=col>event_type</th><th scope=col>Notes</th><th scope=col>event_date_year</th><th scope=col>event_date_month</th><th scope=col>event_date_day</th><th scope=col>ErruptionYN</th></tr>\n",
       "\t<tr><th></th><th scope=col>&lt;int&gt;</th><th scope=col>&lt;chr&gt;</th><th scope=col>&lt;int&gt;</th><th scope=col>&lt;int&gt;</th><th scope=col>&lt;int&gt;</th><th scope=col>&lt;chr&gt;</th><th scope=col>&lt;chr&gt;</th><th scope=col>&lt;int&gt;</th><th scope=col>&lt;int&gt;</th><th scope=col>&lt;int&gt;</th><th scope=col>&lt;chr&gt;</th></tr>\n",
       "</thead>\n",
       "<tbody>\n",
       "\t<tr><th scope=row>1</th><td>210020</td><td>Chaine des Puys</td><td>10011</td><td>-4040</td><td>100001</td><td>Explosion            </td><td>NA</td><td>NA</td><td>NA</td><td>NA</td><td>Y</td></tr>\n",
       "\t<tr><th scope=row>2</th><td>210020</td><td>Chaine des Puys</td><td>10011</td><td>-4040</td><td>100002</td><td>Scoria               </td><td>NA</td><td>NA</td><td>NA</td><td>NA</td><td>Y</td></tr>\n",
       "\t<tr><th scope=row>3</th><td>210020</td><td>Chaine des Puys</td><td>10011</td><td>-4040</td><td>100003</td><td>Pyroclastic flow     </td><td>NA</td><td>NA</td><td>NA</td><td>NA</td><td>Y</td></tr>\n",
       "\t<tr><th scope=row>4</th><td>210020</td><td>Chaine des Puys</td><td>10011</td><td>-4040</td><td>100004</td><td>Lava flow(s)         </td><td>NA</td><td>NA</td><td>NA</td><td>NA</td><td>Y</td></tr>\n",
       "\t<tr><th scope=row>5</th><td>210020</td><td>Chaine des Puys</td><td>10011</td><td>-4040</td><td>100005</td><td>Cinder cone formation</td><td>NA</td><td>NA</td><td>NA</td><td>NA</td><td>Y</td></tr>\n",
       "\t<tr><th scope=row>6</th><td>210020</td><td>Chaine des Puys</td><td>10011</td><td>-4040</td><td>100006</td><td>Pumice               </td><td>NA</td><td>NA</td><td>NA</td><td>NA</td><td>Y</td></tr>\n",
       "</tbody>\n",
       "</table>\n"
      ],
      "text/latex": [
       "A data.frame: 6 × 11\n",
       "\\begin{tabular}{r|lllllllllll}\n",
       "  & volcano\\_number & volcano\\_name & eruption\\_number & eruption\\_start\\_year & event\\_number & event\\_type & Notes & event\\_date\\_year & event\\_date\\_month & event\\_date\\_day & ErruptionYN\\\\\n",
       "  & <int> & <chr> & <int> & <int> & <int> & <chr> & <chr> & <int> & <int> & <int> & <chr>\\\\\n",
       "\\hline\n",
       "\t1 & 210020 & Chaine des Puys & 10011 & -4040 & 100001 & Explosion             & NA & NA & NA & NA & Y\\\\\n",
       "\t2 & 210020 & Chaine des Puys & 10011 & -4040 & 100002 & Scoria                & NA & NA & NA & NA & Y\\\\\n",
       "\t3 & 210020 & Chaine des Puys & 10011 & -4040 & 100003 & Pyroclastic flow      & NA & NA & NA & NA & Y\\\\\n",
       "\t4 & 210020 & Chaine des Puys & 10011 & -4040 & 100004 & Lava flow(s)          & NA & NA & NA & NA & Y\\\\\n",
       "\t5 & 210020 & Chaine des Puys & 10011 & -4040 & 100005 & Cinder cone formation & NA & NA & NA & NA & Y\\\\\n",
       "\t6 & 210020 & Chaine des Puys & 10011 & -4040 & 100006 & Pumice                & NA & NA & NA & NA & Y\\\\\n",
       "\\end{tabular}\n"
      ],
      "text/markdown": [
       "\n",
       "A data.frame: 6 × 11\n",
       "\n",
       "| <!--/--> | volcano_number &lt;int&gt; | volcano_name &lt;chr&gt; | eruption_number &lt;int&gt; | eruption_start_year &lt;int&gt; | event_number &lt;int&gt; | event_type &lt;chr&gt; | Notes &lt;chr&gt; | event_date_year &lt;int&gt; | event_date_month &lt;int&gt; | event_date_day &lt;int&gt; | ErruptionYN &lt;chr&gt; |\n",
       "|---|---|---|---|---|---|---|---|---|---|---|---|\n",
       "| 1 | 210020 | Chaine des Puys | 10011 | -4040 | 100001 | Explosion             | NA | NA | NA | NA | Y |\n",
       "| 2 | 210020 | Chaine des Puys | 10011 | -4040 | 100002 | Scoria                | NA | NA | NA | NA | Y |\n",
       "| 3 | 210020 | Chaine des Puys | 10011 | -4040 | 100003 | Pyroclastic flow      | NA | NA | NA | NA | Y |\n",
       "| 4 | 210020 | Chaine des Puys | 10011 | -4040 | 100004 | Lava flow(s)          | NA | NA | NA | NA | Y |\n",
       "| 5 | 210020 | Chaine des Puys | 10011 | -4040 | 100005 | Cinder cone formation | NA | NA | NA | NA | Y |\n",
       "| 6 | 210020 | Chaine des Puys | 10011 | -4040 | 100006 | Pumice                | NA | NA | NA | NA | Y |\n",
       "\n"
      ],
      "text/plain": [
       "  volcano_number volcano_name    eruption_number eruption_start_year\n",
       "1 210020         Chaine des Puys 10011           -4040              \n",
       "2 210020         Chaine des Puys 10011           -4040              \n",
       "3 210020         Chaine des Puys 10011           -4040              \n",
       "4 210020         Chaine des Puys 10011           -4040              \n",
       "5 210020         Chaine des Puys 10011           -4040              \n",
       "6 210020         Chaine des Puys 10011           -4040              \n",
       "  event_number event_type            Notes event_date_year event_date_month\n",
       "1 100001       Explosion             NA    NA              NA              \n",
       "2 100002       Scoria                NA    NA              NA              \n",
       "3 100003       Pyroclastic flow      NA    NA              NA              \n",
       "4 100004       Lava flow(s)          NA    NA              NA              \n",
       "5 100005       Cinder cone formation NA    NA              NA              \n",
       "6 100006       Pumice                NA    NA              NA              \n",
       "  event_date_day ErruptionYN\n",
       "1 NA             Y          \n",
       "2 NA             Y          \n",
       "3 NA             Y          \n",
       "4 NA             Y          \n",
       "5 NA             Y          \n",
       "6 NA             Y          "
      ]
     },
     "metadata": {},
     "output_type": "display_data"
    }
   ],
   "source": [
    "# Rename Columns notice the renaming of event_remarks to Notes\n",
    "names(volcanoes)[names(volcanoes) == \"event_remarks\"] <- \"Notes\"\n",
    "head(volcanoes)"
   ]
  },
  {
   "cell_type": "code",
   "execution_count": 8,
   "id": "5037bccd-f417-49ed-9908-93f901bf258a",
   "metadata": {},
   "outputs": [
    {
     "data": {
      "text/html": [
       "<table class=\"dataframe\">\n",
       "<caption>A data.frame: 6 × 10</caption>\n",
       "<thead>\n",
       "\t<tr><th></th><th scope=col>volcano_number</th><th scope=col>NameType</th><th scope=col>eruption_number</th><th scope=col>eruption_start_year</th><th scope=col>event_number</th><th scope=col>Notes</th><th scope=col>event_date_year</th><th scope=col>event_date_month</th><th scope=col>event_date_day</th><th scope=col>ErruptionYN</th></tr>\n",
       "\t<tr><th></th><th scope=col>&lt;int&gt;</th><th scope=col>&lt;chr&gt;</th><th scope=col>&lt;int&gt;</th><th scope=col>&lt;int&gt;</th><th scope=col>&lt;int&gt;</th><th scope=col>&lt;chr&gt;</th><th scope=col>&lt;int&gt;</th><th scope=col>&lt;int&gt;</th><th scope=col>&lt;int&gt;</th><th scope=col>&lt;chr&gt;</th></tr>\n",
       "</thead>\n",
       "<tbody>\n",
       "\t<tr><th scope=row>1</th><td>210020</td><td>Chaine des Puys,Explosion            </td><td>10011</td><td>-4040</td><td>100001</td><td>NA</td><td>NA</td><td>NA</td><td>NA</td><td>Y</td></tr>\n",
       "\t<tr><th scope=row>2</th><td>210020</td><td>Chaine des Puys,Scoria               </td><td>10011</td><td>-4040</td><td>100002</td><td>NA</td><td>NA</td><td>NA</td><td>NA</td><td>Y</td></tr>\n",
       "\t<tr><th scope=row>3</th><td>210020</td><td>Chaine des Puys,Pyroclastic flow     </td><td>10011</td><td>-4040</td><td>100003</td><td>NA</td><td>NA</td><td>NA</td><td>NA</td><td>Y</td></tr>\n",
       "\t<tr><th scope=row>4</th><td>210020</td><td>Chaine des Puys,Lava flow(s)         </td><td>10011</td><td>-4040</td><td>100004</td><td>NA</td><td>NA</td><td>NA</td><td>NA</td><td>Y</td></tr>\n",
       "\t<tr><th scope=row>5</th><td>210020</td><td>Chaine des Puys,Cinder cone formation</td><td>10011</td><td>-4040</td><td>100005</td><td>NA</td><td>NA</td><td>NA</td><td>NA</td><td>Y</td></tr>\n",
       "\t<tr><th scope=row>6</th><td>210020</td><td>Chaine des Puys,Pumice               </td><td>10011</td><td>-4040</td><td>100006</td><td>NA</td><td>NA</td><td>NA</td><td>NA</td><td>Y</td></tr>\n",
       "</tbody>\n",
       "</table>\n"
      ],
      "text/latex": [
       "A data.frame: 6 × 10\n",
       "\\begin{tabular}{r|llllllllll}\n",
       "  & volcano\\_number & NameType & eruption\\_number & eruption\\_start\\_year & event\\_number & Notes & event\\_date\\_year & event\\_date\\_month & event\\_date\\_day & ErruptionYN\\\\\n",
       "  & <int> & <chr> & <int> & <int> & <int> & <chr> & <int> & <int> & <int> & <chr>\\\\\n",
       "\\hline\n",
       "\t1 & 210020 & Chaine des Puys,Explosion             & 10011 & -4040 & 100001 & NA & NA & NA & NA & Y\\\\\n",
       "\t2 & 210020 & Chaine des Puys,Scoria                & 10011 & -4040 & 100002 & NA & NA & NA & NA & Y\\\\\n",
       "\t3 & 210020 & Chaine des Puys,Pyroclastic flow      & 10011 & -4040 & 100003 & NA & NA & NA & NA & Y\\\\\n",
       "\t4 & 210020 & Chaine des Puys,Lava flow(s)          & 10011 & -4040 & 100004 & NA & NA & NA & NA & Y\\\\\n",
       "\t5 & 210020 & Chaine des Puys,Cinder cone formation & 10011 & -4040 & 100005 & NA & NA & NA & NA & Y\\\\\n",
       "\t6 & 210020 & Chaine des Puys,Pumice                & 10011 & -4040 & 100006 & NA & NA & NA & NA & Y\\\\\n",
       "\\end{tabular}\n"
      ],
      "text/markdown": [
       "\n",
       "A data.frame: 6 × 10\n",
       "\n",
       "| <!--/--> | volcano_number &lt;int&gt; | NameType &lt;chr&gt; | eruption_number &lt;int&gt; | eruption_start_year &lt;int&gt; | event_number &lt;int&gt; | Notes &lt;chr&gt; | event_date_year &lt;int&gt; | event_date_month &lt;int&gt; | event_date_day &lt;int&gt; | ErruptionYN &lt;chr&gt; |\n",
       "|---|---|---|---|---|---|---|---|---|---|---|\n",
       "| 1 | 210020 | Chaine des Puys,Explosion             | 10011 | -4040 | 100001 | NA | NA | NA | NA | Y |\n",
       "| 2 | 210020 | Chaine des Puys,Scoria                | 10011 | -4040 | 100002 | NA | NA | NA | NA | Y |\n",
       "| 3 | 210020 | Chaine des Puys,Pyroclastic flow      | 10011 | -4040 | 100003 | NA | NA | NA | NA | Y |\n",
       "| 4 | 210020 | Chaine des Puys,Lava flow(s)          | 10011 | -4040 | 100004 | NA | NA | NA | NA | Y |\n",
       "| 5 | 210020 | Chaine des Puys,Cinder cone formation | 10011 | -4040 | 100005 | NA | NA | NA | NA | Y |\n",
       "| 6 | 210020 | Chaine des Puys,Pumice                | 10011 | -4040 | 100006 | NA | NA | NA | NA | Y |\n",
       "\n"
      ],
      "text/plain": [
       "  volcano_number NameType                              eruption_number\n",
       "1 210020         Chaine des Puys,Explosion             10011          \n",
       "2 210020         Chaine des Puys,Scoria                10011          \n",
       "3 210020         Chaine des Puys,Pyroclastic flow      10011          \n",
       "4 210020         Chaine des Puys,Lava flow(s)          10011          \n",
       "5 210020         Chaine des Puys,Cinder cone formation 10011          \n",
       "6 210020         Chaine des Puys,Pumice                10011          \n",
       "  eruption_start_year event_number Notes event_date_year event_date_month\n",
       "1 -4040               100001       NA    NA              NA              \n",
       "2 -4040               100002       NA    NA              NA              \n",
       "3 -4040               100003       NA    NA              NA              \n",
       "4 -4040               100004       NA    NA              NA              \n",
       "5 -4040               100005       NA    NA              NA              \n",
       "6 -4040               100006       NA    NA              NA              \n",
       "  event_date_day ErruptionYN\n",
       "1 NA             Y          \n",
       "2 NA             Y          \n",
       "3 NA             Y          \n",
       "4 NA             Y          \n",
       "5 NA             Y          \n",
       "6 NA             Y          "
      ]
     },
     "metadata": {},
     "output_type": "display_data"
    }
   ],
   "source": [
    "# Combine Columns, notice how we combined volcano_name with event_type into the new column name called NameType\n",
    "# https://www.rdocumentation.org/packages/tidyr/versions/0.8.3/topics/unite\n",
    "volcanoes1 <- unite(volcanoes, NameType, volcano_name, event_type, sep = \",\") \n",
    "head(volcanoes1)"
   ]
  },
  {
   "cell_type": "code",
   "execution_count": 9,
   "id": "bf4fd296-827e-450b-8a14-dabeb540df35",
   "metadata": {},
   "outputs": [
    {
     "name": "stderr",
     "output_type": "stream",
     "text": [
      "Warning message:\n",
      "“Expected 2 pieces. Additional pieces discarded in 2060 rows [1152, 1153, 1154, 1155, 1156, 1157, 1158, 1159, 1308, 1309, 1310, 1311, 1312, 1313, 1314, 1315, 1316, 1317, 1318, 1319, ...].”\n"
     ]
    },
    {
     "data": {
      "text/html": [
       "<table class=\"dataframe\">\n",
       "<caption>A data.frame: 6 × 11</caption>\n",
       "<thead>\n",
       "\t<tr><th></th><th scope=col>volcano_number</th><th scope=col>Name</th><th scope=col>Type</th><th scope=col>eruption_number</th><th scope=col>eruption_start_year</th><th scope=col>event_number</th><th scope=col>Notes</th><th scope=col>event_date_year</th><th scope=col>event_date_month</th><th scope=col>event_date_day</th><th scope=col>ErruptionYN</th></tr>\n",
       "\t<tr><th></th><th scope=col>&lt;int&gt;</th><th scope=col>&lt;chr&gt;</th><th scope=col>&lt;chr&gt;</th><th scope=col>&lt;int&gt;</th><th scope=col>&lt;int&gt;</th><th scope=col>&lt;int&gt;</th><th scope=col>&lt;chr&gt;</th><th scope=col>&lt;int&gt;</th><th scope=col>&lt;int&gt;</th><th scope=col>&lt;int&gt;</th><th scope=col>&lt;chr&gt;</th></tr>\n",
       "</thead>\n",
       "<tbody>\n",
       "\t<tr><th scope=row>1</th><td>210020</td><td>Chaine des Puys</td><td>Explosion            </td><td>10011</td><td>-4040</td><td>100001</td><td>NA</td><td>NA</td><td>NA</td><td>NA</td><td>Y</td></tr>\n",
       "\t<tr><th scope=row>2</th><td>210020</td><td>Chaine des Puys</td><td>Scoria               </td><td>10011</td><td>-4040</td><td>100002</td><td>NA</td><td>NA</td><td>NA</td><td>NA</td><td>Y</td></tr>\n",
       "\t<tr><th scope=row>3</th><td>210020</td><td>Chaine des Puys</td><td>Pyroclastic flow     </td><td>10011</td><td>-4040</td><td>100003</td><td>NA</td><td>NA</td><td>NA</td><td>NA</td><td>Y</td></tr>\n",
       "\t<tr><th scope=row>4</th><td>210020</td><td>Chaine des Puys</td><td>Lava flow(s)         </td><td>10011</td><td>-4040</td><td>100004</td><td>NA</td><td>NA</td><td>NA</td><td>NA</td><td>Y</td></tr>\n",
       "\t<tr><th scope=row>5</th><td>210020</td><td>Chaine des Puys</td><td>Cinder cone formation</td><td>10011</td><td>-4040</td><td>100005</td><td>NA</td><td>NA</td><td>NA</td><td>NA</td><td>Y</td></tr>\n",
       "\t<tr><th scope=row>6</th><td>210020</td><td>Chaine des Puys</td><td>Pumice               </td><td>10011</td><td>-4040</td><td>100006</td><td>NA</td><td>NA</td><td>NA</td><td>NA</td><td>Y</td></tr>\n",
       "</tbody>\n",
       "</table>\n"
      ],
      "text/latex": [
       "A data.frame: 6 × 11\n",
       "\\begin{tabular}{r|lllllllllll}\n",
       "  & volcano\\_number & Name & Type & eruption\\_number & eruption\\_start\\_year & event\\_number & Notes & event\\_date\\_year & event\\_date\\_month & event\\_date\\_day & ErruptionYN\\\\\n",
       "  & <int> & <chr> & <chr> & <int> & <int> & <int> & <chr> & <int> & <int> & <int> & <chr>\\\\\n",
       "\\hline\n",
       "\t1 & 210020 & Chaine des Puys & Explosion             & 10011 & -4040 & 100001 & NA & NA & NA & NA & Y\\\\\n",
       "\t2 & 210020 & Chaine des Puys & Scoria                & 10011 & -4040 & 100002 & NA & NA & NA & NA & Y\\\\\n",
       "\t3 & 210020 & Chaine des Puys & Pyroclastic flow      & 10011 & -4040 & 100003 & NA & NA & NA & NA & Y\\\\\n",
       "\t4 & 210020 & Chaine des Puys & Lava flow(s)          & 10011 & -4040 & 100004 & NA & NA & NA & NA & Y\\\\\n",
       "\t5 & 210020 & Chaine des Puys & Cinder cone formation & 10011 & -4040 & 100005 & NA & NA & NA & NA & Y\\\\\n",
       "\t6 & 210020 & Chaine des Puys & Pumice                & 10011 & -4040 & 100006 & NA & NA & NA & NA & Y\\\\\n",
       "\\end{tabular}\n"
      ],
      "text/markdown": [
       "\n",
       "A data.frame: 6 × 11\n",
       "\n",
       "| <!--/--> | volcano_number &lt;int&gt; | Name &lt;chr&gt; | Type &lt;chr&gt; | eruption_number &lt;int&gt; | eruption_start_year &lt;int&gt; | event_number &lt;int&gt; | Notes &lt;chr&gt; | event_date_year &lt;int&gt; | event_date_month &lt;int&gt; | event_date_day &lt;int&gt; | ErruptionYN &lt;chr&gt; |\n",
       "|---|---|---|---|---|---|---|---|---|---|---|---|\n",
       "| 1 | 210020 | Chaine des Puys | Explosion             | 10011 | -4040 | 100001 | NA | NA | NA | NA | Y |\n",
       "| 2 | 210020 | Chaine des Puys | Scoria                | 10011 | -4040 | 100002 | NA | NA | NA | NA | Y |\n",
       "| 3 | 210020 | Chaine des Puys | Pyroclastic flow      | 10011 | -4040 | 100003 | NA | NA | NA | NA | Y |\n",
       "| 4 | 210020 | Chaine des Puys | Lava flow(s)          | 10011 | -4040 | 100004 | NA | NA | NA | NA | Y |\n",
       "| 5 | 210020 | Chaine des Puys | Cinder cone formation | 10011 | -4040 | 100005 | NA | NA | NA | NA | Y |\n",
       "| 6 | 210020 | Chaine des Puys | Pumice                | 10011 | -4040 | 100006 | NA | NA | NA | NA | Y |\n",
       "\n"
      ],
      "text/plain": [
       "  volcano_number Name            Type                  eruption_number\n",
       "1 210020         Chaine des Puys Explosion             10011          \n",
       "2 210020         Chaine des Puys Scoria                10011          \n",
       "3 210020         Chaine des Puys Pyroclastic flow      10011          \n",
       "4 210020         Chaine des Puys Lava flow(s)          10011          \n",
       "5 210020         Chaine des Puys Cinder cone formation 10011          \n",
       "6 210020         Chaine des Puys Pumice                10011          \n",
       "  eruption_start_year event_number Notes event_date_year event_date_month\n",
       "1 -4040               100001       NA    NA              NA              \n",
       "2 -4040               100002       NA    NA              NA              \n",
       "3 -4040               100003       NA    NA              NA              \n",
       "4 -4040               100004       NA    NA              NA              \n",
       "5 -4040               100005       NA    NA              NA              \n",
       "6 -4040               100006       NA    NA              NA              \n",
       "  event_date_day ErruptionYN\n",
       "1 NA             Y          \n",
       "2 NA             Y          \n",
       "3 NA             Y          \n",
       "4 NA             Y          \n",
       "5 NA             Y          \n",
       "6 NA             Y          "
      ]
     },
     "metadata": {},
     "output_type": "display_data"
    }
   ],
   "source": [
    "# Separate Columns, notice how we are separating the NameType into 2 new columns called Name and Type\n",
    "# https://www.rdocumentation.org/packages/tidyr/versions/1.1.4/topics/separate\n",
    "volcanoes2 <- separate(volcanoes1, NameType, c(\"Name\", \"Type\"), sep=\",\")\n",
    "head(volcanoes2)"
   ]
  },
  {
   "cell_type": "code",
   "execution_count": 10,
   "id": "1f4bc3fa-62c5-4cdc-9129-ef96cb646e4d",
   "metadata": {},
   "outputs": [
    {
     "data": {
      "text/html": [
       "<table class=\"dataframe\">\n",
       "<caption>A data.frame: 2 × 11</caption>\n",
       "<thead>\n",
       "\t<tr><th></th><th scope=col>volcano_number</th><th scope=col>Name</th><th scope=col>Type</th><th scope=col>eruption_number</th><th scope=col>eruption_start_year</th><th scope=col>event_number</th><th scope=col>Notes</th><th scope=col>event_date_year</th><th scope=col>event_date_month</th><th scope=col>event_date_day</th><th scope=col>ErruptionYN</th></tr>\n",
       "\t<tr><th></th><th scope=col>&lt;int&gt;</th><th scope=col>&lt;chr&gt;</th><th scope=col>&lt;chr&gt;</th><th scope=col>&lt;int&gt;</th><th scope=col>&lt;int&gt;</th><th scope=col>&lt;int&gt;</th><th scope=col>&lt;chr&gt;</th><th scope=col>&lt;int&gt;</th><th scope=col>&lt;int&gt;</th><th scope=col>&lt;int&gt;</th><th scope=col>&lt;chr&gt;</th></tr>\n",
       "</thead>\n",
       "<tbody>\n",
       "\t<tr><th scope=row>1</th><td>210020</td><td>Chaine des Puys</td><td>Explosion</td><td>10011</td><td>-4040</td><td>100001</td><td>NA</td><td>NA</td><td>NA</td><td>NA</td><td>Y</td></tr>\n",
       "\t<tr><th scope=row>2</th><td>210020</td><td>Chaine des Puys</td><td>Scoria   </td><td>10011</td><td>-4040</td><td>100002</td><td>NA</td><td>NA</td><td>NA</td><td>NA</td><td>Y</td></tr>\n",
       "</tbody>\n",
       "</table>\n"
      ],
      "text/latex": [
       "A data.frame: 2 × 11\n",
       "\\begin{tabular}{r|lllllllllll}\n",
       "  & volcano\\_number & Name & Type & eruption\\_number & eruption\\_start\\_year & event\\_number & Notes & event\\_date\\_year & event\\_date\\_month & event\\_date\\_day & ErruptionYN\\\\\n",
       "  & <int> & <chr> & <chr> & <int> & <int> & <int> & <chr> & <int> & <int> & <int> & <chr>\\\\\n",
       "\\hline\n",
       "\t1 & 210020 & Chaine des Puys & Explosion & 10011 & -4040 & 100001 & NA & NA & NA & NA & Y\\\\\n",
       "\t2 & 210020 & Chaine des Puys & Scoria    & 10011 & -4040 & 100002 & NA & NA & NA & NA & Y\\\\\n",
       "\\end{tabular}\n"
      ],
      "text/markdown": [
       "\n",
       "A data.frame: 2 × 11\n",
       "\n",
       "| <!--/--> | volcano_number &lt;int&gt; | Name &lt;chr&gt; | Type &lt;chr&gt; | eruption_number &lt;int&gt; | eruption_start_year &lt;int&gt; | event_number &lt;int&gt; | Notes &lt;chr&gt; | event_date_year &lt;int&gt; | event_date_month &lt;int&gt; | event_date_day &lt;int&gt; | ErruptionYN &lt;chr&gt; |\n",
       "|---|---|---|---|---|---|---|---|---|---|---|---|\n",
       "| 1 | 210020 | Chaine des Puys | Explosion | 10011 | -4040 | 100001 | NA | NA | NA | NA | Y |\n",
       "| 2 | 210020 | Chaine des Puys | Scoria    | 10011 | -4040 | 100002 | NA | NA | NA | NA | Y |\n",
       "\n"
      ],
      "text/plain": [
       "  volcano_number Name            Type      eruption_number eruption_start_year\n",
       "1 210020         Chaine des Puys Explosion 10011           -4040              \n",
       "2 210020         Chaine des Puys Scoria    10011           -4040              \n",
       "  event_number Notes event_date_year event_date_month event_date_day\n",
       "1 100001       NA    NA              NA               NA            \n",
       "2 100002       NA    NA              NA               NA            \n",
       "  ErruptionYN\n",
       "1 Y          \n",
       "2 Y          "
      ]
     },
     "metadata": {},
     "output_type": "display_data"
    }
   ],
   "source": [
    "# Subset Data - keep only the first two rows of data\n",
    "volcanoes3 <- volcanoes2[1:2,]\n",
    "head(volcanoes3)"
   ]
  },
  {
   "cell_type": "code",
   "execution_count": 11,
   "id": "33323311-dbd6-435b-b801-548c80fd67fe",
   "metadata": {},
   "outputs": [
    {
     "data": {
      "text/html": [
       "<table class=\"dataframe\">\n",
       "<caption>A data.frame: 2 × 2</caption>\n",
       "<thead>\n",
       "\t<tr><th></th><th scope=col>Name</th><th scope=col>Type</th></tr>\n",
       "\t<tr><th></th><th scope=col>&lt;chr&gt;</th><th scope=col>&lt;chr&gt;</th></tr>\n",
       "</thead>\n",
       "<tbody>\n",
       "\t<tr><th scope=row>1</th><td>Chaine des Puys</td><td>Explosion</td></tr>\n",
       "\t<tr><th scope=row>2</th><td>Chaine des Puys</td><td>Scoria   </td></tr>\n",
       "</tbody>\n",
       "</table>\n"
      ],
      "text/latex": [
       "A data.frame: 2 × 2\n",
       "\\begin{tabular}{r|ll}\n",
       "  & Name & Type\\\\\n",
       "  & <chr> & <chr>\\\\\n",
       "\\hline\n",
       "\t1 & Chaine des Puys & Explosion\\\\\n",
       "\t2 & Chaine des Puys & Scoria   \\\\\n",
       "\\end{tabular}\n"
      ],
      "text/markdown": [
       "\n",
       "A data.frame: 2 × 2\n",
       "\n",
       "| <!--/--> | Name &lt;chr&gt; | Type &lt;chr&gt; |\n",
       "|---|---|---|\n",
       "| 1 | Chaine des Puys | Explosion |\n",
       "| 2 | Chaine des Puys | Scoria    |\n",
       "\n"
      ],
      "text/plain": [
       "  Name            Type     \n",
       "1 Chaine des Puys Explosion\n",
       "2 Chaine des Puys Scoria   "
      ]
     },
     "metadata": {},
     "output_type": "display_data"
    }
   ],
   "source": [
    "# Subset by keeping columns\n",
    "volcanoes4 <- volcanoes3 %>% select(Name, Type)\n",
    "head(volcanoes4)"
   ]
  },
  {
   "cell_type": "code",
   "execution_count": 12,
   "id": "eb492efb-1552-40e7-ac2d-e8f692d5bfab",
   "metadata": {},
   "outputs": [
    {
     "data": {
      "text/html": [
       "<table class=\"dataframe\">\n",
       "<caption>A data.frame: 6 × 11</caption>\n",
       "<thead>\n",
       "\t<tr><th></th><th scope=col>volcano_number</th><th scope=col>volcano_name</th><th scope=col>eruption_number</th><th scope=col>eruption_start_year</th><th scope=col>event_number</th><th scope=col>event_type</th><th scope=col>Notes</th><th scope=col>event_date_year</th><th scope=col>event_date_month</th><th scope=col>event_date_day</th><th scope=col>ErruptionYN</th></tr>\n",
       "\t<tr><th></th><th scope=col>&lt;int&gt;</th><th scope=col>&lt;chr&gt;</th><th scope=col>&lt;int&gt;</th><th scope=col>&lt;int&gt;</th><th scope=col>&lt;int&gt;</th><th scope=col>&lt;chr&gt;</th><th scope=col>&lt;chr&gt;</th><th scope=col>&lt;int&gt;</th><th scope=col>&lt;int&gt;</th><th scope=col>&lt;int&gt;</th><th scope=col>&lt;chr&gt;</th></tr>\n",
       "</thead>\n",
       "<tbody>\n",
       "\t<tr><th scope=row>1</th><td>210020</td><td>Chaine des Puys</td><td>10011</td><td>-4040</td><td>100001</td><td>Explosion            </td><td>NA</td><td>NA</td><td>NA</td><td>NA</td><td>Y</td></tr>\n",
       "\t<tr><th scope=row>2</th><td>210020</td><td>Chaine des Puys</td><td>10011</td><td>-4040</td><td>100002</td><td>Scoria               </td><td>NA</td><td>NA</td><td>NA</td><td>NA</td><td>Y</td></tr>\n",
       "\t<tr><th scope=row>3</th><td>210020</td><td>Chaine des Puys</td><td>10011</td><td>-4040</td><td>100003</td><td>Pyroclastic flow     </td><td>NA</td><td>NA</td><td>NA</td><td>NA</td><td>Y</td></tr>\n",
       "\t<tr><th scope=row>4</th><td>210020</td><td>Chaine des Puys</td><td>10011</td><td>-4040</td><td>100004</td><td>Lava flow(s)         </td><td>NA</td><td>NA</td><td>NA</td><td>NA</td><td>Y</td></tr>\n",
       "\t<tr><th scope=row>5</th><td>210020</td><td>Chaine des Puys</td><td>10011</td><td>-4040</td><td>100005</td><td>Cinder cone formation</td><td>NA</td><td>NA</td><td>NA</td><td>NA</td><td>Y</td></tr>\n",
       "\t<tr><th scope=row>6</th><td>210020</td><td>Chaine des Puys</td><td>10011</td><td>-4040</td><td>100006</td><td>Pumice               </td><td>NA</td><td>NA</td><td>NA</td><td>NA</td><td>Y</td></tr>\n",
       "</tbody>\n",
       "</table>\n"
      ],
      "text/latex": [
       "A data.frame: 6 × 11\n",
       "\\begin{tabular}{r|lllllllllll}\n",
       "  & volcano\\_number & volcano\\_name & eruption\\_number & eruption\\_start\\_year & event\\_number & event\\_type & Notes & event\\_date\\_year & event\\_date\\_month & event\\_date\\_day & ErruptionYN\\\\\n",
       "  & <int> & <chr> & <int> & <int> & <int> & <chr> & <chr> & <int> & <int> & <int> & <chr>\\\\\n",
       "\\hline\n",
       "\t1 & 210020 & Chaine des Puys & 10011 & -4040 & 100001 & Explosion             & NA & NA & NA & NA & Y\\\\\n",
       "\t2 & 210020 & Chaine des Puys & 10011 & -4040 & 100002 & Scoria                & NA & NA & NA & NA & Y\\\\\n",
       "\t3 & 210020 & Chaine des Puys & 10011 & -4040 & 100003 & Pyroclastic flow      & NA & NA & NA & NA & Y\\\\\n",
       "\t4 & 210020 & Chaine des Puys & 10011 & -4040 & 100004 & Lava flow(s)          & NA & NA & NA & NA & Y\\\\\n",
       "\t5 & 210020 & Chaine des Puys & 10011 & -4040 & 100005 & Cinder cone formation & NA & NA & NA & NA & Y\\\\\n",
       "\t6 & 210020 & Chaine des Puys & 10011 & -4040 & 100006 & Pumice                & NA & NA & NA & NA & Y\\\\\n",
       "\\end{tabular}\n"
      ],
      "text/markdown": [
       "\n",
       "A data.frame: 6 × 11\n",
       "\n",
       "| <!--/--> | volcano_number &lt;int&gt; | volcano_name &lt;chr&gt; | eruption_number &lt;int&gt; | eruption_start_year &lt;int&gt; | event_number &lt;int&gt; | event_type &lt;chr&gt; | Notes &lt;chr&gt; | event_date_year &lt;int&gt; | event_date_month &lt;int&gt; | event_date_day &lt;int&gt; | ErruptionYN &lt;chr&gt; |\n",
       "|---|---|---|---|---|---|---|---|---|---|---|---|\n",
       "| 1 | 210020 | Chaine des Puys | 10011 | -4040 | 100001 | Explosion             | NA | NA | NA | NA | Y |\n",
       "| 2 | 210020 | Chaine des Puys | 10011 | -4040 | 100002 | Scoria                | NA | NA | NA | NA | Y |\n",
       "| 3 | 210020 | Chaine des Puys | 10011 | -4040 | 100003 | Pyroclastic flow      | NA | NA | NA | NA | Y |\n",
       "| 4 | 210020 | Chaine des Puys | 10011 | -4040 | 100004 | Lava flow(s)          | NA | NA | NA | NA | Y |\n",
       "| 5 | 210020 | Chaine des Puys | 10011 | -4040 | 100005 | Cinder cone formation | NA | NA | NA | NA | Y |\n",
       "| 6 | 210020 | Chaine des Puys | 10011 | -4040 | 100006 | Pumice                | NA | NA | NA | NA | Y |\n",
       "\n"
      ],
      "text/plain": [
       "  volcano_number volcano_name    eruption_number eruption_start_year\n",
       "1 210020         Chaine des Puys 10011           -4040              \n",
       "2 210020         Chaine des Puys 10011           -4040              \n",
       "3 210020         Chaine des Puys 10011           -4040              \n",
       "4 210020         Chaine des Puys 10011           -4040              \n",
       "5 210020         Chaine des Puys 10011           -4040              \n",
       "6 210020         Chaine des Puys 10011           -4040              \n",
       "  event_number event_type            Notes event_date_year event_date_month\n",
       "1 100001       Explosion             NA    NA              NA              \n",
       "2 100002       Scoria                NA    NA              NA              \n",
       "3 100003       Pyroclastic flow      NA    NA              NA              \n",
       "4 100004       Lava flow(s)          NA    NA              NA              \n",
       "5 100005       Cinder cone formation NA    NA              NA              \n",
       "6 100006       Pumice                NA    NA              NA              \n",
       "  event_date_day ErruptionYN\n",
       "1 NA             Y          \n",
       "2 NA             Y          \n",
       "3 NA             Y          \n",
       "4 NA             Y          \n",
       "5 NA             Y          \n",
       "6 NA             Y          "
      ]
     },
     "metadata": {},
     "output_type": "display_data"
    }
   ],
   "source": [
    "head(volcanoes)"
   ]
  },
  {
   "cell_type": "code",
   "execution_count": null,
   "id": "94b0aef6-206e-422f-b613-fdf7131a599a",
   "metadata": {},
   "outputs": [],
   "source": []
  }
 ],
 "metadata": {
  "kernelspec": {
   "display_name": "R",
   "language": "R",
   "name": "ir"
  },
  "language_info": {
   "codemirror_mode": "r",
   "file_extension": ".r",
   "mimetype": "text/x-r-source",
   "name": "R",
   "pygments_lexer": "r",
   "version": "4.2.1"
  }
 },
 "nbformat": 4,
 "nbformat_minor": 5
}
